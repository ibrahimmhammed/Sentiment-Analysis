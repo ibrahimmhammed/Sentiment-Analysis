{
 "cells": [
  {
   "cell_type": "markdown",
   "id": "326e179d",
   "metadata": {
    "papermill": {
     "duration": 0.01386,
     "end_time": "2023-12-14T16:14:33.744474",
     "exception": false,
     "start_time": "2023-12-14T16:14:33.730614",
     "status": "completed"
    },
    "tags": []
   },
   "source": [
    "# **Importing Libraries**"
   ]
  },
  {
   "cell_type": "code",
   "execution_count": 1,
   "id": "63793657",
   "metadata": {
    "execution": {
     "iopub.execute_input": "2023-12-14T16:14:33.773169Z",
     "iopub.status.busy": "2023-12-14T16:14:33.772349Z",
     "iopub.status.idle": "2023-12-14T16:14:36.366191Z",
     "shell.execute_reply": "2023-12-14T16:14:36.364754Z"
    },
    "papermill": {
     "duration": 2.611462,
     "end_time": "2023-12-14T16:14:36.369062",
     "exception": false,
     "start_time": "2023-12-14T16:14:33.757600",
     "status": "completed"
    },
    "tags": []
   },
   "outputs": [
    {
     "name": "stdout",
     "output_type": "stream",
     "text": [
      "/kaggle/input/restaurant-reviews/Restaurant_Reviews.tsv\n"
     ]
    }
   ],
   "source": [
    "import numpy as np \n",
    "import pandas as pd \n",
    "import matplotlib.pyplot as plt\n",
    "import seaborn as sns\n",
    "import warnings\n",
    "warnings.filterwarnings('ignore')\n",
    "import os\n",
    "for dirname, _, filenames in os.walk('/kaggle/input'):\n",
    "    for filename in filenames:\n",
    "        print(os.path.join(dirname, filename))\n"
   ]
  },
  {
   "cell_type": "markdown",
   "id": "f9744750",
   "metadata": {
    "papermill": {
     "duration": 0.013677,
     "end_time": "2023-12-14T16:14:36.397184",
     "exception": false,
     "start_time": "2023-12-14T16:14:36.383507",
     "status": "completed"
    },
    "tags": []
   },
   "source": [
    "# **Reading Files**"
   ]
  },
  {
   "cell_type": "code",
   "execution_count": 2,
   "id": "e4bae800",
   "metadata": {
    "execution": {
     "iopub.execute_input": "2023-12-14T16:14:36.427611Z",
     "iopub.status.busy": "2023-12-14T16:14:36.426402Z",
     "iopub.status.idle": "2023-12-14T16:14:36.454681Z",
     "shell.execute_reply": "2023-12-14T16:14:36.453569Z"
    },
    "papermill": {
     "duration": 0.046573,
     "end_time": "2023-12-14T16:14:36.457822",
     "exception": false,
     "start_time": "2023-12-14T16:14:36.411249",
     "status": "completed"
    },
    "tags": []
   },
   "outputs": [],
   "source": [
    "df = pd.read_csv('/kaggle/input/restaurant-reviews/Restaurant_Reviews.tsv',sep='\\t')"
   ]
  },
  {
   "cell_type": "markdown",
   "id": "fe280881",
   "metadata": {
    "papermill": {
     "duration": 0.013135,
     "end_time": "2023-12-14T16:14:36.484607",
     "exception": false,
     "start_time": "2023-12-14T16:14:36.471472",
     "status": "completed"
    },
    "tags": []
   },
   "source": [
    "# **Data Exploration**"
   ]
  },
  {
   "cell_type": "code",
   "execution_count": 3,
   "id": "8048b7a1",
   "metadata": {
    "execution": {
     "iopub.execute_input": "2023-12-14T16:14:36.516003Z",
     "iopub.status.busy": "2023-12-14T16:14:36.515066Z",
     "iopub.status.idle": "2023-12-14T16:14:36.542004Z",
     "shell.execute_reply": "2023-12-14T16:14:36.540690Z"
    },
    "papermill": {
     "duration": 0.046542,
     "end_time": "2023-12-14T16:14:36.545373",
     "exception": false,
     "start_time": "2023-12-14T16:14:36.498831",
     "status": "completed"
    },
    "tags": []
   },
   "outputs": [
    {
     "data": {
      "text/html": [
       "<div>\n",
       "<style scoped>\n",
       "    .dataframe tbody tr th:only-of-type {\n",
       "        vertical-align: middle;\n",
       "    }\n",
       "\n",
       "    .dataframe tbody tr th {\n",
       "        vertical-align: top;\n",
       "    }\n",
       "\n",
       "    .dataframe thead th {\n",
       "        text-align: right;\n",
       "    }\n",
       "</style>\n",
       "<table border=\"1\" class=\"dataframe\">\n",
       "  <thead>\n",
       "    <tr style=\"text-align: right;\">\n",
       "      <th></th>\n",
       "      <th>Review</th>\n",
       "      <th>Liked</th>\n",
       "    </tr>\n",
       "  </thead>\n",
       "  <tbody>\n",
       "    <tr>\n",
       "      <th>0</th>\n",
       "      <td>Wow... Loved this place.</td>\n",
       "      <td>1</td>\n",
       "    </tr>\n",
       "    <tr>\n",
       "      <th>1</th>\n",
       "      <td>Crust is not good.</td>\n",
       "      <td>0</td>\n",
       "    </tr>\n",
       "    <tr>\n",
       "      <th>2</th>\n",
       "      <td>Not tasty and the texture was just nasty.</td>\n",
       "      <td>0</td>\n",
       "    </tr>\n",
       "    <tr>\n",
       "      <th>3</th>\n",
       "      <td>Stopped by during the late May bank holiday of...</td>\n",
       "      <td>1</td>\n",
       "    </tr>\n",
       "    <tr>\n",
       "      <th>4</th>\n",
       "      <td>The selection on the menu was great and so wer...</td>\n",
       "      <td>1</td>\n",
       "    </tr>\n",
       "  </tbody>\n",
       "</table>\n",
       "</div>"
      ],
      "text/plain": [
       "                                              Review  Liked\n",
       "0                           Wow... Loved this place.      1\n",
       "1                                 Crust is not good.      0\n",
       "2          Not tasty and the texture was just nasty.      0\n",
       "3  Stopped by during the late May bank holiday of...      1\n",
       "4  The selection on the menu was great and so wer...      1"
      ]
     },
     "execution_count": 3,
     "metadata": {},
     "output_type": "execute_result"
    }
   ],
   "source": [
    "df.head()"
   ]
  },
  {
   "cell_type": "code",
   "execution_count": 4,
   "id": "af71b58a",
   "metadata": {
    "execution": {
     "iopub.execute_input": "2023-12-14T16:14:36.577571Z",
     "iopub.status.busy": "2023-12-14T16:14:36.575847Z",
     "iopub.status.idle": "2023-12-14T16:14:36.613263Z",
     "shell.execute_reply": "2023-12-14T16:14:36.611992Z"
    },
    "papermill": {
     "duration": 0.056568,
     "end_time": "2023-12-14T16:14:36.616345",
     "exception": false,
     "start_time": "2023-12-14T16:14:36.559777",
     "status": "completed"
    },
    "tags": []
   },
   "outputs": [
    {
     "name": "stdout",
     "output_type": "stream",
     "text": [
      "<class 'pandas.core.frame.DataFrame'>\n",
      "RangeIndex: 1000 entries, 0 to 999\n",
      "Data columns (total 2 columns):\n",
      " #   Column  Non-Null Count  Dtype \n",
      "---  ------  --------------  ----- \n",
      " 0   Review  1000 non-null   object\n",
      " 1   Liked   1000 non-null   int64 \n",
      "dtypes: int64(1), object(1)\n",
      "memory usage: 15.8+ KB\n"
     ]
    }
   ],
   "source": [
    "df.info() #we dont have nulls"
   ]
  },
  {
   "cell_type": "markdown",
   "id": "2599721b",
   "metadata": {
    "papermill": {
     "duration": 0.014412,
     "end_time": "2023-12-14T16:14:36.644507",
     "exception": false,
     "start_time": "2023-12-14T16:14:36.630095",
     "status": "completed"
    },
    "tags": []
   },
   "source": [
    "# **Data Analysis**"
   ]
  },
  {
   "cell_type": "markdown",
   "id": "33829957",
   "metadata": {
    "papermill": {
     "duration": 0.014277,
     "end_time": "2023-12-14T16:14:36.672570",
     "exception": false,
     "start_time": "2023-12-14T16:14:36.658293",
     "status": "completed"
    },
    "tags": []
   },
   "source": [
    "**- How many likes and dislikes ?**"
   ]
  },
  {
   "cell_type": "code",
   "execution_count": 5,
   "id": "581428d3",
   "metadata": {
    "execution": {
     "iopub.execute_input": "2023-12-14T16:14:36.704002Z",
     "iopub.status.busy": "2023-12-14T16:14:36.702272Z",
     "iopub.status.idle": "2023-12-14T16:14:37.026748Z",
     "shell.execute_reply": "2023-12-14T16:14:37.024998Z"
    },
    "papermill": {
     "duration": 0.344794,
     "end_time": "2023-12-14T16:14:37.031193",
     "exception": false,
     "start_time": "2023-12-14T16:14:36.686399",
     "status": "completed"
    },
    "tags": []
   },
   "outputs": [
    {
     "data": {
      "image/png": "[encoded data removed]",
      "text/plain": [
       "<Figure size 640x480 with 1 Axes>"
      ]
     },
     "metadata": {},
     "output_type": "display_data"
    }
   ],
   "source": [
    "df['Liked'].value_counts().plot.pie(autopct='%0.1f%%',colors=['g','r'])\n",
    "plt.show()"
   ]
  },
  {
   "cell_type": "markdown",
   "id": "860ab174",
   "metadata": {
    "papermill": {
     "duration": 0.027621,
     "end_time": "2023-12-14T16:14:37.087616",
     "exception": false,
     "start_time": "2023-12-14T16:14:37.059995",
     "status": "completed"
    },
    "tags": []
   },
   "source": [
    "**- How many characters in each review ?**"
   ]
  },
  {
   "cell_type": "markdown",
   "id": "ac6d59d0",
   "metadata": {
    "papermill": {
     "duration": 0.01353,
     "end_time": "2023-12-14T16:14:37.114779",
     "exception": false,
     "start_time": "2023-12-14T16:14:37.101249",
     "status": "completed"
    },
    "tags": []
   },
   "source": [
    "**to count that we will creat a new column (characters_count)**"
   ]
  },
  {
   "cell_type": "code",
   "execution_count": 6,
   "id": "33127e41",
   "metadata": {
    "execution": {
     "iopub.execute_input": "2023-12-14T16:14:37.144539Z",
     "iopub.status.busy": "2023-12-14T16:14:37.144040Z",
     "iopub.status.idle": "2023-12-14T16:14:37.151796Z",
     "shell.execute_reply": "2023-12-14T16:14:37.150835Z"
    },
    "papermill": {
     "duration": 0.025891,
     "end_time": "2023-12-14T16:14:37.154257",
     "exception": false,
     "start_time": "2023-12-14T16:14:37.128366",
     "status": "completed"
    },
    "tags": []
   },
   "outputs": [],
   "source": [
    "df['characters_count'] = df['Review'].apply(len)"
   ]
  },
  {
   "cell_type": "code",
   "execution_count": 7,
   "id": "039f8223",
   "metadata": {
    "execution": {
     "iopub.execute_input": "2023-12-14T16:14:37.184189Z",
     "iopub.status.busy": "2023-12-14T16:14:37.183319Z",
     "iopub.status.idle": "2023-12-14T16:14:37.200258Z",
     "shell.execute_reply": "2023-12-14T16:14:37.198912Z"
    },
    "papermill": {
     "duration": 0.035511,
     "end_time": "2023-12-14T16:14:37.203294",
     "exception": false,
     "start_time": "2023-12-14T16:14:37.167783",
     "status": "completed"
    },
    "tags": []
   },
   "outputs": [
    {
     "data": {
      "text/html": [
       "<div>\n",
       "<style scoped>\n",
       "    .dataframe tbody tr th:only-of-type {\n",
       "        vertical-align: middle;\n",
       "    }\n",
       "\n",
       "    .dataframe tbody tr th {\n",
       "        vertical-align: top;\n",
       "    }\n",
       "\n",
       "    .dataframe thead th {\n",
       "        text-align: right;\n",
       "    }\n",
       "</style>\n",
       "<table border=\"1\" class=\"dataframe\">\n",
       "  <thead>\n",
       "    <tr style=\"text-align: right;\">\n",
       "      <th></th>\n",
       "      <th>Review</th>\n",
       "      <th>Liked</th>\n",
       "      <th>characters_count</th>\n",
       "    </tr>\n",
       "  </thead>\n",
       "  <tbody>\n",
       "    <tr>\n",
       "      <th>0</th>\n",
       "      <td>Wow... Loved this place.</td>\n",
       "      <td>1</td>\n",
       "      <td>24</td>\n",
       "    </tr>\n",
       "    <tr>\n",
       "      <th>1</th>\n",
       "      <td>Crust is not good.</td>\n",
       "      <td>0</td>\n",
       "      <td>18</td>\n",
       "    </tr>\n",
       "    <tr>\n",
       "      <th>2</th>\n",
       "      <td>Not tasty and the texture was just nasty.</td>\n",
       "      <td>0</td>\n",
       "      <td>41</td>\n",
       "    </tr>\n",
       "    <tr>\n",
       "      <th>3</th>\n",
       "      <td>Stopped by during the late May bank holiday of...</td>\n",
       "      <td>1</td>\n",
       "      <td>87</td>\n",
       "    </tr>\n",
       "    <tr>\n",
       "      <th>4</th>\n",
       "      <td>The selection on the menu was great and so wer...</td>\n",
       "      <td>1</td>\n",
       "      <td>59</td>\n",
       "    </tr>\n",
       "    <tr>\n",
       "      <th>...</th>\n",
       "      <td>...</td>\n",
       "      <td>...</td>\n",
       "      <td>...</td>\n",
       "    </tr>\n",
       "    <tr>\n",
       "      <th>995</th>\n",
       "      <td>I think food should have flavor and texture an...</td>\n",
       "      <td>0</td>\n",
       "      <td>66</td>\n",
       "    </tr>\n",
       "    <tr>\n",
       "      <th>996</th>\n",
       "      <td>Appetite instantly gone.</td>\n",
       "      <td>0</td>\n",
       "      <td>24</td>\n",
       "    </tr>\n",
       "    <tr>\n",
       "      <th>997</th>\n",
       "      <td>Overall I was not impressed and would not go b...</td>\n",
       "      <td>0</td>\n",
       "      <td>50</td>\n",
       "    </tr>\n",
       "    <tr>\n",
       "      <th>998</th>\n",
       "      <td>The whole experience was underwhelming, and I ...</td>\n",
       "      <td>0</td>\n",
       "      <td>91</td>\n",
       "    </tr>\n",
       "    <tr>\n",
       "      <th>999</th>\n",
       "      <td>Then, as if I hadn't wasted enough of my life ...</td>\n",
       "      <td>0</td>\n",
       "      <td>134</td>\n",
       "    </tr>\n",
       "  </tbody>\n",
       "</table>\n",
       "<p>1000 rows × 3 columns</p>\n",
       "</div>"
      ],
      "text/plain": [
       "                                                Review  Liked  \\\n",
       "0                             Wow... Loved this place.      1   \n",
       "1                                   Crust is not good.      0   \n",
       "2            Not tasty and the texture was just nasty.      0   \n",
       "3    Stopped by during the late May bank holiday of...      1   \n",
       "4    The selection on the menu was great and so wer...      1   \n",
       "..                                                 ...    ...   \n",
       "995  I think food should have flavor and texture an...      0   \n",
       "996                           Appetite instantly gone.      0   \n",
       "997  Overall I was not impressed and would not go b...      0   \n",
       "998  The whole experience was underwhelming, and I ...      0   \n",
       "999  Then, as if I hadn't wasted enough of my life ...      0   \n",
       "\n",
       "     characters_count  \n",
       "0                  24  \n",
       "1                  18  \n",
       "2                  41  \n",
       "3                  87  \n",
       "4                  59  \n",
       "..                ...  \n",
       "995                66  \n",
       "996                24  \n",
       "997                50  \n",
       "998                91  \n",
       "999               134  \n",
       "\n",
       "[1000 rows x 3 columns]"
      ]
     },
     "execution_count": 7,
     "metadata": {},
     "output_type": "execute_result"
    }
   ],
   "source": [
    "df"
   ]
  },
  {
   "cell_type": "code",
   "execution_count": 8,
   "id": "7e44d1a1",
   "metadata": {
    "execution": {
     "iopub.execute_input": "2023-12-14T16:14:37.235191Z",
     "iopub.status.busy": "2023-12-14T16:14:37.234774Z",
     "iopub.status.idle": "2023-12-14T16:14:37.243646Z",
     "shell.execute_reply": "2023-12-14T16:14:37.242327Z"
    },
    "papermill": {
     "duration": 0.028785,
     "end_time": "2023-12-14T16:14:37.246353",
     "exception": false,
     "start_time": "2023-12-14T16:14:37.217568",
     "status": "completed"
    },
    "tags": []
   },
   "outputs": [
    {
     "data": {
      "text/plain": [
       "(149, 985)"
      ]
     },
     "execution_count": 8,
     "metadata": {},
     "output_type": "execute_result"
    }
   ],
   "source": [
    "df['characters_count'].max() , df['characters_count'].idxmax()"
   ]
  },
  {
   "cell_type": "code",
   "execution_count": 9,
   "id": "7540ae53",
   "metadata": {
    "execution": {
     "iopub.execute_input": "2023-12-14T16:14:37.278497Z",
     "iopub.status.busy": "2023-12-14T16:14:37.278091Z",
     "iopub.status.idle": "2023-12-14T16:14:37.286226Z",
     "shell.execute_reply": "2023-12-14T16:14:37.284845Z"
    },
    "papermill": {
     "duration": 0.027887,
     "end_time": "2023-12-14T16:14:37.288677",
     "exception": false,
     "start_time": "2023-12-14T16:14:37.260790",
     "status": "completed"
    },
    "tags": []
   },
   "outputs": [
    {
     "data": {
      "text/plain": [
       "'The problem I have is that they charge $11.99 for a sandwich that is no bigger than a Subway sub (which offers better and more amount of vegetables).'"
      ]
     },
     "execution_count": 9,
     "metadata": {},
     "output_type": "execute_result"
    }
   ],
   "source": [
    "df.loc[985, 'Review']\n",
    "#This is the tallest review (149 character)"
   ]
  },
  {
   "cell_type": "code",
   "execution_count": 10,
   "id": "66228f4e",
   "metadata": {
    "execution": {
     "iopub.execute_input": "2023-12-14T16:14:37.320246Z",
     "iopub.status.busy": "2023-12-14T16:14:37.319494Z",
     "iopub.status.idle": "2023-12-14T16:14:37.325997Z",
     "shell.execute_reply": "2023-12-14T16:14:37.325173Z"
    },
    "papermill": {
     "duration": 0.025147,
     "end_time": "2023-12-14T16:14:37.328232",
     "exception": false,
     "start_time": "2023-12-14T16:14:37.303085",
     "status": "completed"
    },
    "tags": []
   },
   "outputs": [
    {
     "data": {
      "text/plain": [
       "58.315"
      ]
     },
     "execution_count": 10,
     "metadata": {},
     "output_type": "execute_result"
    }
   ],
   "source": [
    "df['characters_count'].mean() #"
   ]
  },
  {
   "cell_type": "markdown",
   "id": "052f50fd",
   "metadata": {
    "papermill": {
     "duration": 0.014689,
     "end_time": "2023-12-14T16:14:37.358354",
     "exception": false,
     "start_time": "2023-12-14T16:14:37.343665",
     "status": "completed"
    },
    "tags": []
   },
   "source": [
    "# **Text Pre-Processing**"
   ]
  },
  {
   "cell_type": "code",
   "execution_count": 11,
   "id": "dea59627",
   "metadata": {
    "execution": {
     "iopub.execute_input": "2023-12-14T16:14:37.487894Z",
     "iopub.status.busy": "2023-12-14T16:14:37.487118Z",
     "iopub.status.idle": "2023-12-14T16:14:38.608915Z",
     "shell.execute_reply": "2023-12-14T16:14:38.607961Z"
    },
    "papermill": {
     "duration": 1.238504,
     "end_time": "2023-12-14T16:14:38.612040",
     "exception": false,
     "start_time": "2023-12-14T16:14:37.373536",
     "status": "completed"
    },
    "tags": []
   },
   "outputs": [
    {
     "name": "stdout",
     "output_type": "stream",
     "text": [
      "[nltk_data] Downloading package stopwords to /usr/share/nltk_data...\n",
      "[nltk_data]   Package stopwords is already up-to-date!\n",
      "['i', 'me', 'my', 'myself', 'we', 'our', 'ours', 'ourselves', 'you', \"you're\", \"you've\", \"you'll\", \"you'd\", 'your', 'yours', 'yourself', 'yourselves', 'he', 'him', 'his', 'himself', 'she', \"she's\", 'her', 'hers', 'herself', 'it', \"it's\", 'its', 'itself', 'they', 'them', 'their', 'theirs', 'themselves', 'what', 'which', 'who', 'whom', 'this', 'that', \"that'll\", 'these', 'those', 'am', 'is', 'are', 'was', 'were', 'be', 'been', 'being', 'have', 'has', 'had', 'having', 'do', 'does', 'did', 'doing', 'a', 'an', 'the', 'and', 'but', 'if', 'or', 'because', 'as', 'until', 'while', 'of', 'at', 'by', 'for', 'with', 'about', 'against', 'between', 'into', 'through', 'during', 'before', 'after', 'above', 'below', 'to', 'from', 'up', 'down', 'in', 'out', 'on', 'off', 'over', 'under', 'again', 'further', 'then', 'once', 'here', 'there', 'when', 'where', 'why', 'how', 'all', 'any', 'both', 'each', 'few', 'more', 'most', 'other', 'some', 'such', 'no', 'nor', 'not', 'only', 'own', 'same', 'so', 'than', 'too', 'very', 's', 't', 'can', 'will', 'just', 'don', \"don't\", 'should', \"should've\", 'now', 'd', 'll', 'm', 'o', 're', 've', 'y', 'ain', 'aren', \"aren't\", 'couldn', \"couldn't\", 'didn', \"didn't\", 'doesn', \"doesn't\", 'hadn', \"hadn't\", 'hasn', \"hasn't\", 'haven', \"haven't\", 'isn', \"isn't\", 'ma', 'mightn', \"mightn't\", 'mustn', \"mustn't\", 'needn', \"needn't\", 'shan', \"shan't\", 'shouldn', \"shouldn't\", 'wasn', \"wasn't\", 'weren', \"weren't\", 'won', \"won't\", 'wouldn', \"wouldn't\"]\n"
     ]
    }
   ],
   "source": [
    "import nltk\n",
    "from nltk.corpus import stopwords\n",
    "nltk.download('stopwords')\n",
    "print(stopwords.words('english'))"
   ]
  },
  {
   "cell_type": "markdown",
   "id": "7fc747e0",
   "metadata": {
    "papermill": {
     "duration": 0.014993,
     "end_time": "2023-12-14T16:14:38.642559",
     "exception": false,
     "start_time": "2023-12-14T16:14:38.627566",
     "status": "completed"
    },
    "tags": []
   },
   "source": [
    "**Stemming**"
   ]
  },
  {
   "cell_type": "code",
   "execution_count": 12,
   "id": "6ec2734f",
   "metadata": {
    "execution": {
     "iopub.execute_input": "2023-12-14T16:14:38.675812Z",
     "iopub.status.busy": "2023-12-14T16:14:38.675023Z",
     "iopub.status.idle": "2023-12-14T16:14:38.680199Z",
     "shell.execute_reply": "2023-12-14T16:14:38.678957Z"
    },
    "papermill": {
     "duration": 0.025363,
     "end_time": "2023-12-14T16:14:38.683293",
     "exception": false,
     "start_time": "2023-12-14T16:14:38.657930",
     "status": "completed"
    },
    "tags": []
   },
   "outputs": [],
   "source": [
    "from nltk.stem.porter import PorterStemmer\n",
    "import re"
   ]
  },
  {
   "cell_type": "code",
   "execution_count": 13,
   "id": "286530f2",
   "metadata": {
    "execution": {
     "iopub.execute_input": "2023-12-14T16:14:38.717075Z",
     "iopub.status.busy": "2023-12-14T16:14:38.716646Z",
     "iopub.status.idle": "2023-12-14T16:14:38.721711Z",
     "shell.execute_reply": "2023-12-14T16:14:38.720430Z"
    },
    "papermill": {
     "duration": 0.025775,
     "end_time": "2023-12-14T16:14:38.724411",
     "exception": false,
     "start_time": "2023-12-14T16:14:38.698636",
     "status": "completed"
    },
    "tags": []
   },
   "outputs": [],
   "source": [
    "port_stem = PorterStemmer()"
   ]
  },
  {
   "cell_type": "code",
   "execution_count": 14,
   "id": "3c7b40e5",
   "metadata": {
    "execution": {
     "iopub.execute_input": "2023-12-14T16:14:38.759170Z",
     "iopub.status.busy": "2023-12-14T16:14:38.757522Z",
     "iopub.status.idle": "2023-12-14T16:14:38.765845Z",
     "shell.execute_reply": "2023-12-14T16:14:38.764879Z"
    },
    "papermill": {
     "duration": 0.02883,
     "end_time": "2023-12-14T16:14:38.768785",
     "exception": false,
     "start_time": "2023-12-14T16:14:38.739955",
     "status": "completed"
    },
    "tags": []
   },
   "outputs": [],
   "source": [
    "def stemming(content):\n",
    "    stemmed_content = re.sub('[^a-zA-Z]',' ',content)\n",
    "    stemmed_content = stemmed_content.lower()\n",
    "    stemmed_content = stemmed_content.split()\n",
    "    stemmed_content = [port_stem.stem(word) for word in stemmed_content if not word in stopwords.words('english')]\n",
    "    stemmed_content = ' '.join(stemmed_content)\n",
    "    return stemmed_content"
   ]
  },
  {
   "cell_type": "code",
   "execution_count": 15,
   "id": "ee0850c2",
   "metadata": {
    "execution": {
     "iopub.execute_input": "2023-12-14T16:14:38.802663Z",
     "iopub.status.busy": "2023-12-14T16:14:38.801753Z",
     "iopub.status.idle": "2023-12-14T16:14:40.733692Z",
     "shell.execute_reply": "2023-12-14T16:14:40.732357Z"
    },
    "papermill": {
     "duration": 1.953248,
     "end_time": "2023-12-14T16:14:40.737390",
     "exception": false,
     "start_time": "2023-12-14T16:14:38.784142",
     "status": "completed"
    },
    "tags": []
   },
   "outputs": [],
   "source": [
    "# applying our function on review column\n",
    "df['Review'] = df['Review'].apply(stemming)"
   ]
  },
  {
   "cell_type": "code",
   "execution_count": 16,
   "id": "f57f7d6c",
   "metadata": {
    "execution": {
     "iopub.execute_input": "2023-12-14T16:14:40.770755Z",
     "iopub.status.busy": "2023-12-14T16:14:40.770315Z",
     "iopub.status.idle": "2023-12-14T16:14:40.782199Z",
     "shell.execute_reply": "2023-12-14T16:14:40.780666Z"
    },
    "papermill": {
     "duration": 0.032551,
     "end_time": "2023-12-14T16:14:40.785283",
     "exception": false,
     "start_time": "2023-12-14T16:14:40.752732",
     "status": "completed"
    },
    "tags": []
   },
   "outputs": [
    {
     "data": {
      "text/plain": [
       "0                                         wow love place\n",
       "1                                             crust good\n",
       "2                                     tasti textur nasti\n",
       "3      stop late may bank holiday rick steve recommen...\n",
       "4                                select menu great price\n",
       "                             ...                        \n",
       "995                        think food flavor textur lack\n",
       "996                               appetit instantli gone\n",
       "997                         overal impress would go back\n",
       "998    whole experi underwhelm think go ninja sushi n...\n",
       "999    wast enough life pour salt wound draw time too...\n",
       "Name: Review, Length: 1000, dtype: object"
      ]
     },
     "execution_count": 16,
     "metadata": {},
     "output_type": "execute_result"
    }
   ],
   "source": [
    "df['Review'] #Review after stemming"
   ]
  },
  {
   "cell_type": "markdown",
   "id": "2c7e715b",
   "metadata": {
    "papermill": {
     "duration": 0.015488,
     "end_time": "2023-12-14T16:14:40.817026",
     "exception": false,
     "start_time": "2023-12-14T16:14:40.801538",
     "status": "completed"
    },
    "tags": []
   },
   "source": [
    "# **Creating Model**"
   ]
  },
  {
   "cell_type": "markdown",
   "id": "8f40edae",
   "metadata": {
    "papermill": {
     "duration": 0.019203,
     "end_time": "2023-12-14T16:14:40.853970",
     "exception": false,
     "start_time": "2023-12-14T16:14:40.834767",
     "status": "completed"
    },
    "tags": []
   },
   "source": [
    "**- Vectorizing**"
   ]
  },
  {
   "cell_type": "code",
   "execution_count": 17,
   "id": "96aebf20",
   "metadata": {
    "execution": {
     "iopub.execute_input": "2023-12-14T16:14:40.889139Z",
     "iopub.status.busy": "2023-12-14T16:14:40.888727Z",
     "iopub.status.idle": "2023-12-14T16:14:40.895049Z",
     "shell.execute_reply": "2023-12-14T16:14:40.893466Z"
    },
    "papermill": {
     "duration": 0.027584,
     "end_time": "2023-12-14T16:14:40.898150",
     "exception": false,
     "start_time": "2023-12-14T16:14:40.870566",
     "status": "completed"
    },
    "tags": []
   },
   "outputs": [],
   "source": [
    "from sklearn.feature_extraction.text import TfidfVectorizer"
   ]
  },
  {
   "cell_type": "code",
   "execution_count": 18,
   "id": "9b573d14",
   "metadata": {
    "execution": {
     "iopub.execute_input": "2023-12-14T16:14:40.933858Z",
     "iopub.status.busy": "2023-12-14T16:14:40.933458Z",
     "iopub.status.idle": "2023-12-14T16:14:40.940141Z",
     "shell.execute_reply": "2023-12-14T16:14:40.938220Z"
    },
    "papermill": {
     "duration": 0.028569,
     "end_time": "2023-12-14T16:14:40.943057",
     "exception": false,
     "start_time": "2023-12-14T16:14:40.914488",
     "status": "completed"
    },
    "tags": []
   },
   "outputs": [],
   "source": [
    "tf = TfidfVectorizer()"
   ]
  },
  {
   "cell_type": "code",
   "execution_count": 19,
   "id": "e609a13c",
   "metadata": {
    "execution": {
     "iopub.execute_input": "2023-12-14T16:14:40.976408Z",
     "iopub.status.busy": "2023-12-14T16:14:40.976000Z",
     "iopub.status.idle": "2023-12-14T16:14:41.036888Z",
     "shell.execute_reply": "2023-12-14T16:14:41.035567Z"
    },
    "papermill": {
     "duration": 0.081919,
     "end_time": "2023-12-14T16:14:41.040528",
     "exception": false,
     "start_time": "2023-12-14T16:14:40.958609",
     "status": "completed"
    },
    "tags": []
   },
   "outputs": [
    {
     "data": {
      "text/plain": [
       "array([[0., 0., 0., ..., 0., 0., 0.],\n",
       "       [0., 0., 0., ..., 0., 0., 0.],\n",
       "       [0., 0., 0., ..., 0., 0., 0.],\n",
       "       ...,\n",
       "       [0., 0., 0., ..., 0., 0., 0.],\n",
       "       [0., 0., 0., ..., 0., 0., 0.],\n",
       "       [0., 0., 0., ..., 0., 0., 0.]])"
      ]
     },
     "execution_count": 19,
     "metadata": {},
     "output_type": "execute_result"
    }
   ],
   "source": [
    "tf.fit_transform(df['Review']).toarray()"
   ]
  },
  {
   "cell_type": "markdown",
   "id": "82d22ba6",
   "metadata": {
    "papermill": {
     "duration": 0.015428,
     "end_time": "2023-12-14T16:14:41.071395",
     "exception": false,
     "start_time": "2023-12-14T16:14:41.055967",
     "status": "completed"
    },
    "tags": []
   },
   "source": [
    "- **Model**"
   ]
  },
  {
   "cell_type": "code",
   "execution_count": 20,
   "id": "6e621977",
   "metadata": {
    "execution": {
     "iopub.execute_input": "2023-12-14T16:14:41.104071Z",
     "iopub.status.busy": "2023-12-14T16:14:41.103551Z",
     "iopub.status.idle": "2023-12-14T16:14:41.148653Z",
     "shell.execute_reply": "2023-12-14T16:14:41.147083Z"
    },
    "papermill": {
     "duration": 0.065036,
     "end_time": "2023-12-14T16:14:41.151667",
     "exception": false,
     "start_time": "2023-12-14T16:14:41.086631",
     "status": "completed"
    },
    "tags": []
   },
   "outputs": [],
   "source": [
    "x = tf.fit_transform(df['Review']).toarray()\n",
    "y= df['Liked']"
   ]
  },
  {
   "cell_type": "code",
   "execution_count": 21,
   "id": "818de954",
   "metadata": {
    "execution": {
     "iopub.execute_input": "2023-12-14T16:14:41.184078Z",
     "iopub.status.busy": "2023-12-14T16:14:41.183605Z",
     "iopub.status.idle": "2023-12-14T16:14:41.189471Z",
     "shell.execute_reply": "2023-12-14T16:14:41.187958Z"
    },
    "papermill": {
     "duration": 0.025284,
     "end_time": "2023-12-14T16:14:41.192057",
     "exception": false,
     "start_time": "2023-12-14T16:14:41.166773",
     "status": "completed"
    },
    "tags": []
   },
   "outputs": [],
   "source": [
    "from sklearn.model_selection import train_test_split"
   ]
  },
  {
   "cell_type": "code",
   "execution_count": 22,
   "id": "cf58275d",
   "metadata": {
    "execution": {
     "iopub.execute_input": "2023-12-14T16:14:41.224437Z",
     "iopub.status.busy": "2023-12-14T16:14:41.224036Z",
     "iopub.status.idle": "2023-12-14T16:14:41.240957Z",
     "shell.execute_reply": "2023-12-14T16:14:41.238997Z"
    },
    "papermill": {
     "duration": 0.036636,
     "end_time": "2023-12-14T16:14:41.243891",
     "exception": false,
     "start_time": "2023-12-14T16:14:41.207255",
     "status": "completed"
    },
    "tags": []
   },
   "outputs": [],
   "source": [
    "x_train , x_test , y_train , y_test = train_test_split(x,y,test_size=0.2,random_state=42,shuffle=True)"
   ]
  },
  {
   "cell_type": "code",
   "execution_count": 23,
   "id": "1d80bce3",
   "metadata": {
    "execution": {
     "iopub.execute_input": "2023-12-14T16:14:41.276016Z",
     "iopub.status.busy": "2023-12-14T16:14:41.275488Z",
     "iopub.status.idle": "2023-12-14T16:14:41.285244Z",
     "shell.execute_reply": "2023-12-14T16:14:41.283710Z"
    },
    "papermill": {
     "duration": 0.029522,
     "end_time": "2023-12-14T16:14:41.288437",
     "exception": false,
     "start_time": "2023-12-14T16:14:41.258915",
     "status": "completed"
    },
    "tags": []
   },
   "outputs": [],
   "source": [
    "from sklearn.naive_bayes import MultinomialNB"
   ]
  },
  {
   "cell_type": "code",
   "execution_count": 24,
   "id": "1a709040",
   "metadata": {
    "execution": {
     "iopub.execute_input": "2023-12-14T16:14:41.321664Z",
     "iopub.status.busy": "2023-12-14T16:14:41.321260Z",
     "iopub.status.idle": "2023-12-14T16:14:41.327195Z",
     "shell.execute_reply": "2023-12-14T16:14:41.325816Z"
    },
    "papermill": {
     "duration": 0.025832,
     "end_time": "2023-12-14T16:14:41.329924",
     "exception": false,
     "start_time": "2023-12-14T16:14:41.304092",
     "status": "completed"
    },
    "tags": []
   },
   "outputs": [],
   "source": [
    "model = MultinomialNB()"
   ]
  },
  {
   "cell_type": "code",
   "execution_count": 25,
   "id": "9b900d34",
   "metadata": {
    "execution": {
     "iopub.execute_input": "2023-12-14T16:14:41.364077Z",
     "iopub.status.busy": "2023-12-14T16:14:41.363668Z",
     "iopub.status.idle": "2023-12-14T16:14:41.388565Z",
     "shell.execute_reply": "2023-12-14T16:14:41.387360Z"
    },
    "papermill": {
     "duration": 0.047234,
     "end_time": "2023-12-14T16:14:41.393405",
     "exception": false,
     "start_time": "2023-12-14T16:14:41.346171",
     "status": "completed"
    },
    "tags": []
   },
   "outputs": [
    {
     "data": {
      "text/html": [
       "<style>#sk-container-id-1 {color: black;background-color: white;}#sk-container-id-1 pre{padding: 0;}#sk-container-id-1 div.sk-toggleable {background-color: white;}#sk-container-id-1 label.sk-toggleable__label {cursor: pointer;display: block;width: 100%;margin-bottom: 0;padding: 0.3em;box-sizing: border-box;text-align: center;}#sk-container-id-1 label.sk-toggleable__label-arrow:before {content: \"▸\";float: left;margin-right: 0.25em;color: #696969;}#sk-container-id-1 label.sk-toggleable__label-arrow:hover:before {color: black;}#sk-container-id-1 div.sk-estimator:hover label.sk-toggleable__label-arrow:before {color: black;}#sk-container-id-1 div.sk-toggleable__content {max-height: 0;max-width: 0;overflow: hidden;text-align: left;background-color: #f0f8ff;}#sk-container-id-1 div.sk-toggleable__content pre {margin: 0.2em;color: black;border-radius: 0.25em;background-color: #f0f8ff;}#sk-container-id-1 input.sk-toggleable__control:checked~div.sk-toggleable__content {max-height: 200px;max-width: 100%;overflow: auto;}#sk-container-id-1 input.sk-toggleable__control:checked~label.sk-toggleable__label-arrow:before {content: \"▾\";}#sk-container-id-1 div.sk-estimator input.sk-toggleable__control:checked~label.sk-toggleable__label {background-color: #d4ebff;}#sk-container-id-1 div.sk-label input.sk-toggleable__control:checked~label.sk-toggleable__label {background-color: #d4ebff;}#sk-container-id-1 input.sk-hidden--visually {border: 0;clip: rect(1px 1px 1px 1px);clip: rect(1px, 1px, 1px, 1px);height: 1px;margin: -1px;overflow: hidden;padding: 0;position: absolute;width: 1px;}#sk-container-id-1 div.sk-estimator {font-family: monospace;background-color: #f0f8ff;border: 1px dotted black;border-radius: 0.25em;box-sizing: border-box;margin-bottom: 0.5em;}#sk-container-id-1 div.sk-estimator:hover {background-color: #d4ebff;}#sk-container-id-1 div.sk-parallel-item::after {content: \"\";width: 100%;border-bottom: 1px solid gray;flex-grow: 1;}#sk-container-id-1 div.sk-label:hover label.sk-toggleable__label {background-color: #d4ebff;}#sk-container-id-1 div.sk-serial::before {content: \"\";position: absolute;border-left: 1px solid gray;box-sizing: border-box;top: 0;bottom: 0;left: 50%;z-index: 0;}#sk-container-id-1 div.sk-serial {display: flex;flex-direction: column;align-items: center;background-color: white;padding-right: 0.2em;padding-left: 0.2em;position: relative;}#sk-container-id-1 div.sk-item {position: relative;z-index: 1;}#sk-container-id-1 div.sk-parallel {display: flex;align-items: stretch;justify-content: center;background-color: white;position: relative;}#sk-container-id-1 div.sk-item::before, #sk-container-id-1 div.sk-parallel-item::before {content: \"\";position: absolute;border-left: 1px solid gray;box-sizing: border-box;top: 0;bottom: 0;left: 50%;z-index: -1;}#sk-container-id-1 div.sk-parallel-item {display: flex;flex-direction: column;z-index: 1;position: relative;background-color: white;}#sk-container-id-1 div.sk-parallel-item:first-child::after {align-self: flex-end;width: 50%;}#sk-container-id-1 div.sk-parallel-item:last-child::after {align-self: flex-start;width: 50%;}#sk-container-id-1 div.sk-parallel-item:only-child::after {width: 0;}#sk-container-id-1 div.sk-dashed-wrapped {border: 1px dashed gray;margin: 0 0.4em 0.5em 0.4em;box-sizing: border-box;padding-bottom: 0.4em;background-color: white;}#sk-container-id-1 div.sk-label label {font-family: monospace;font-weight: bold;display: inline-block;line-height: 1.2em;}#sk-container-id-1 div.sk-label-container {text-align: center;}#sk-container-id-1 div.sk-container {/* jupyter's `normalize.less` sets `[hidden] { display: none; }` but bootstrap.min.css set `[hidden] { display: none !important; }` so we also need the `!important` here to be able to override the default hidden behavior on the sphinx rendered scikit-learn.org. See: https://github.com/scikit-learn/scikit-learn/issues/21755 */display: inline-block !important;position: relative;}#sk-container-id-1 div.sk-text-repr-fallback {display: none;}</style><div id=\"sk-container-id-1\" class=\"sk-top-container\"><div class=\"sk-text-repr-fallback\"><pre>MultinomialNB()</pre><b>In a Jupyter environment, please rerun this cell to show the HTML representation or trust the notebook. <br />On GitHub, the HTML representation is unable to render, please try loading this page with nbviewer.org.</b></div><div class=\"sk-container\" hidden><div class=\"sk-item\"><div class=\"sk-estimator sk-toggleable\"><input class=\"sk-toggleable__control sk-hidden--visually\" id=\"sk-estimator-id-1\" type=\"checkbox\" checked><label for=\"sk-estimator-id-1\" class=\"sk-toggleable__label sk-toggleable__label-arrow\">MultinomialNB</label><div class=\"sk-toggleable__content\"><pre>MultinomialNB()</pre></div></div></div></div></div>"
      ],
      "text/plain": [
       "MultinomialNB()"
      ]
     },
     "execution_count": 25,
     "metadata": {},
     "output_type": "execute_result"
    }
   ],
   "source": [
    "model.fit(x_train,y_train)"
   ]
  },
  {
   "cell_type": "code",
   "execution_count": 26,
   "id": "fcc4a089",
   "metadata": {
    "execution": {
     "iopub.execute_input": "2023-12-14T16:14:41.469422Z",
     "iopub.status.busy": "2023-12-14T16:14:41.468439Z",
     "iopub.status.idle": "2023-12-14T16:14:41.480794Z",
     "shell.execute_reply": "2023-12-14T16:14:41.477626Z"
    },
    "papermill": {
     "duration": 0.05852,
     "end_time": "2023-12-14T16:14:41.486589",
     "exception": false,
     "start_time": "2023-12-14T16:14:41.428069",
     "status": "completed"
    },
    "tags": []
   },
   "outputs": [],
   "source": [
    "y_pred = model.predict(x_test)"
   ]
  },
  {
   "cell_type": "code",
   "execution_count": 27,
   "id": "0fa24d68",
   "metadata": {
    "execution": {
     "iopub.execute_input": "2023-12-14T16:14:41.559544Z",
     "iopub.status.busy": "2023-12-14T16:14:41.558645Z",
     "iopub.status.idle": "2023-12-14T16:14:41.567249Z",
     "shell.execute_reply": "2023-12-14T16:14:41.565849Z"
    },
    "papermill": {
     "duration": 0.051088,
     "end_time": "2023-12-14T16:14:41.571650",
     "exception": false,
     "start_time": "2023-12-14T16:14:41.520562",
     "status": "completed"
    },
    "tags": []
   },
   "outputs": [],
   "source": [
    "from sklearn.metrics import confusion_matrix , accuracy_score"
   ]
  },
  {
   "cell_type": "code",
   "execution_count": 28,
   "id": "7890a65e",
   "metadata": {
    "execution": {
     "iopub.execute_input": "2023-12-14T16:14:41.619755Z",
     "iopub.status.busy": "2023-12-14T16:14:41.619270Z",
     "iopub.status.idle": "2023-12-14T16:14:41.626956Z",
     "shell.execute_reply": "2023-12-14T16:14:41.626035Z"
    },
    "papermill": {
     "duration": 0.028125,
     "end_time": "2023-12-14T16:14:41.629647",
     "exception": false,
     "start_time": "2023-12-14T16:14:41.601522",
     "status": "completed"
    },
    "tags": []
   },
   "outputs": [],
   "source": [
    "con = confusion_matrix(y_pred,y_test)"
   ]
  },
  {
   "cell_type": "code",
   "execution_count": 29,
   "id": "5596ad9b",
   "metadata": {
    "execution": {
     "iopub.execute_input": "2023-12-14T16:14:41.668542Z",
     "iopub.status.busy": "2023-12-14T16:14:41.667474Z",
     "iopub.status.idle": "2023-12-14T16:14:41.675593Z",
     "shell.execute_reply": "2023-12-14T16:14:41.673819Z"
    },
    "papermill": {
     "duration": 0.02983,
     "end_time": "2023-12-14T16:14:41.678416",
     "exception": false,
     "start_time": "2023-12-14T16:14:41.648586",
     "status": "completed"
    },
    "tags": []
   },
   "outputs": [
    {
     "name": "stdout",
     "output_type": "stream",
     "text": [
      "[[73 28]\n",
      " [23 76]]\n"
     ]
    }
   ],
   "source": [
    "print(con)"
   ]
  },
  {
   "cell_type": "code",
   "execution_count": 30,
   "id": "2df3033f",
   "metadata": {
    "execution": {
     "iopub.execute_input": "2023-12-14T16:14:41.714068Z",
     "iopub.status.busy": "2023-12-14T16:14:41.713091Z",
     "iopub.status.idle": "2023-12-14T16:14:41.720163Z",
     "shell.execute_reply": "2023-12-14T16:14:41.719181Z"
    },
    "papermill": {
     "duration": 0.028672,
     "end_time": "2023-12-14T16:14:41.723138",
     "exception": false,
     "start_time": "2023-12-14T16:14:41.694466",
     "status": "completed"
    },
    "tags": []
   },
   "outputs": [],
   "source": [
    "acc = accuracy_score(y_pred,y_test)\n"
   ]
  },
  {
   "cell_type": "code",
   "execution_count": 31,
   "id": "efef62ee",
   "metadata": {
    "execution": {
     "iopub.execute_input": "2023-12-14T16:14:41.759362Z",
     "iopub.status.busy": "2023-12-14T16:14:41.758572Z",
     "iopub.status.idle": "2023-12-14T16:14:41.765134Z",
     "shell.execute_reply": "2023-12-14T16:14:41.763897Z"
    },
    "papermill": {
     "duration": 0.028242,
     "end_time": "2023-12-14T16:14:41.767794",
     "exception": false,
     "start_time": "2023-12-14T16:14:41.739552",
     "status": "completed"
    },
    "tags": []
   },
   "outputs": [
    {
     "name": "stdout",
     "output_type": "stream",
     "text": [
      "0.745\n"
     ]
    }
   ],
   "source": [
    "print(acc)"
   ]
  },
  {
   "cell_type": "code",
   "execution_count": null,
   "id": "3e33e59d",
   "metadata": {
    "papermill": {
     "duration": 0.015721,
     "end_time": "2023-12-14T16:14:41.799419",
     "exception": false,
     "start_time": "2023-12-14T16:14:41.783698",
     "status": "completed"
    },
    "tags": []
   },
   "outputs": [],
   "source": []
  }
 ],
 "metadata": {
  "kaggle": {
   "accelerator": "none",
   "dataSources": [
    {
     "datasetId": 1395030,
     "sourceId": 2312004,
     "sourceType": "datasetVersion"
    }
   ],
   "dockerImageVersionId": 30626,
   "isGpuEnabled": false,
   "isInternetEnabled": true,
   "language": "python",
   "sourceType": "notebook"
  },
  "kernelspec": {
   "display_name": "Python 3",
   "language": "python",
   "name": "python3"
  },
  "language_info": {
   "codemirror_mode": {
    "name": "ipython",
    "version": 3
   },
   "file_extension": ".py",
   "mimetype": "text/x-python",
   "name": "python",
   "nbconvert_exporter": "python",
   "pygments_lexer": "ipython3",
   "version": "3.10.12"
  },
  "papermill": {
   "default_parameters": {},
   "duration": 14.118887,
   "end_time": "2023-12-14T16:14:42.640464",
   "environment_variables": {},
   "exception": null,
   "input_path": "__notebook__.ipynb",
   "output_path": "__notebook__.ipynb",
   "parameters": {},
   "start_time": "2023-12-14T16:14:28.521577",
   "version": "2.4.0"
  }
 },
 "nbformat": 4,
 "nbformat_minor": 5
}
