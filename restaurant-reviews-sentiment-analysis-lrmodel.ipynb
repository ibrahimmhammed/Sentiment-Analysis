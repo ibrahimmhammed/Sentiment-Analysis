{
 "cells": [
  {
   "cell_type": "markdown",
   "id": "b4a5a332",
   "metadata": {
    "papermill": {
     "duration": 0.008145,
     "end_time": "2023-12-14T19:14:28.603435",
     "exception": false,
     "start_time": "2023-12-14T19:14:28.595290",
     "status": "completed"
    },
    "tags": []
   },
   "source": [
    "# **Importing Libraries**"
   ]
  },
  {
   "cell_type": "code",
   "execution_count": 1,
   "id": "4bf0964d",
   "metadata": {
    "execution": {
     "iopub.execute_input": "2023-12-14T19:14:28.620882Z",
     "iopub.status.busy": "2023-12-14T19:14:28.620135Z",
     "iopub.status.idle": "2023-12-14T19:14:30.387735Z",
     "shell.execute_reply": "2023-12-14T19:14:30.386604Z"
    },
    "papermill": {
     "duration": 1.778813,
     "end_time": "2023-12-14T19:14:30.390065",
     "exception": false,
     "start_time": "2023-12-14T19:14:28.611252",
     "status": "completed"
    },
    "tags": []
   },
   "outputs": [
    {
     "name": "stderr",
     "output_type": "stream",
     "text": [
      "/opt/conda/lib/python3.10/site-packages/scipy/__init__.py:146: UserWarning: A NumPy version >=1.16.5 and <1.23.0 is required for this version of SciPy (detected version 1.24.3\n",
      "  warnings.warn(f\"A NumPy version >={np_minversion} and <{np_maxversion}\"\n"
     ]
    },
    {
     "name": "stdout",
     "output_type": "stream",
     "text": [
      "/kaggle/input/restaurant-reviews/Restaurant_Reviews.tsv\n"
     ]
    }
   ],
   "source": [
    "import numpy as np \n",
    "import pandas as pd \n",
    "import matplotlib.pyplot as plt\n",
    "import seaborn as sns\n",
    "import warnings\n",
    "warnings.filterwarnings('ignore')\n",
    "import os\n",
    "for dirname, _, filenames in os.walk('/kaggle/input'):\n",
    "    for filename in filenames:\n",
    "        print(os.path.join(dirname, filename))\n"
   ]
  },
  {
   "cell_type": "markdown",
   "id": "313636e4",
   "metadata": {
    "papermill": {
     "duration": 0.007808,
     "end_time": "2023-12-14T19:14:30.405921",
     "exception": false,
     "start_time": "2023-12-14T19:14:30.398113",
     "status": "completed"
    },
    "tags": []
   },
   "source": [
    "# **Reading Files**"
   ]
  },
  {
   "cell_type": "code",
   "execution_count": 2,
   "id": "4089cf94",
   "metadata": {
    "execution": {
     "iopub.execute_input": "2023-12-14T19:14:30.423787Z",
     "iopub.status.busy": "2023-12-14T19:14:30.422981Z",
     "iopub.status.idle": "2023-12-14T19:14:30.441876Z",
     "shell.execute_reply": "2023-12-14T19:14:30.440941Z"
    },
    "papermill": {
     "duration": 0.029948,
     "end_time": "2023-12-14T19:14:30.443751",
     "exception": false,
     "start_time": "2023-12-14T19:14:30.413803",
     "status": "completed"
    },
    "tags": []
   },
   "outputs": [],
   "source": [
    "df = pd.read_csv('/kaggle/input/restaurant-reviews/Restaurant_Reviews.tsv',sep='\\t')"
   ]
  },
  {
   "cell_type": "markdown",
   "id": "9cad5559",
   "metadata": {
    "papermill": {
     "duration": 0.007694,
     "end_time": "2023-12-14T19:14:30.459344",
     "exception": false,
     "start_time": "2023-12-14T19:14:30.451650",
     "status": "completed"
    },
    "tags": []
   },
   "source": [
    "# **Data Exploration**"
   ]
  },
  {
   "cell_type": "code",
   "execution_count": 3,
   "id": "7817dfb3",
   "metadata": {
    "execution": {
     "iopub.execute_input": "2023-12-14T19:14:30.476455Z",
     "iopub.status.busy": "2023-12-14T19:14:30.475692Z",
     "iopub.status.idle": "2023-12-14T19:14:30.491280Z",
     "shell.execute_reply": "2023-12-14T19:14:30.490416Z"
    },
    "papermill": {
     "duration": 0.026192,
     "end_time": "2023-12-14T19:14:30.493180",
     "exception": false,
     "start_time": "2023-12-14T19:14:30.466988",
     "status": "completed"
    },
    "tags": []
   },
   "outputs": [
    {
     "data": {
      "text/html": [
       "<div>\n",
       "<style scoped>\n",
       "    .dataframe tbody tr th:only-of-type {\n",
       "        vertical-align: middle;\n",
       "    }\n",
       "\n",
       "    .dataframe tbody tr th {\n",
       "        vertical-align: top;\n",
       "    }\n",
       "\n",
       "    .dataframe thead th {\n",
       "        text-align: right;\n",
       "    }\n",
       "</style>\n",
       "<table border=\"1\" class=\"dataframe\">\n",
       "  <thead>\n",
       "    <tr style=\"text-align: right;\">\n",
       "      <th></th>\n",
       "      <th>Review</th>\n",
       "      <th>Liked</th>\n",
       "    </tr>\n",
       "  </thead>\n",
       "  <tbody>\n",
       "    <tr>\n",
       "      <th>0</th>\n",
       "      <td>Wow... Loved this place.</td>\n",
       "      <td>1</td>\n",
       "    </tr>\n",
       "    <tr>\n",
       "      <th>1</th>\n",
       "      <td>Crust is not good.</td>\n",
       "      <td>0</td>\n",
       "    </tr>\n",
       "    <tr>\n",
       "      <th>2</th>\n",
       "      <td>Not tasty and the texture was just nasty.</td>\n",
       "      <td>0</td>\n",
       "    </tr>\n",
       "    <tr>\n",
       "      <th>3</th>\n",
       "      <td>Stopped by during the late May bank holiday of...</td>\n",
       "      <td>1</td>\n",
       "    </tr>\n",
       "    <tr>\n",
       "      <th>4</th>\n",
       "      <td>The selection on the menu was great and so wer...</td>\n",
       "      <td>1</td>\n",
       "    </tr>\n",
       "  </tbody>\n",
       "</table>\n",
       "</div>"
      ],
      "text/plain": [
       "                                              Review  Liked\n",
       "0                           Wow... Loved this place.      1\n",
       "1                                 Crust is not good.      0\n",
       "2          Not tasty and the texture was just nasty.      0\n",
       "3  Stopped by during the late May bank holiday of...      1\n",
       "4  The selection on the menu was great and so wer...      1"
      ]
     },
     "execution_count": 3,
     "metadata": {},
     "output_type": "execute_result"
    }
   ],
   "source": [
    "df.head()"
   ]
  },
  {
   "cell_type": "code",
   "execution_count": 4,
   "id": "d44b2b42",
   "metadata": {
    "execution": {
     "iopub.execute_input": "2023-12-14T19:14:30.510672Z",
     "iopub.status.busy": "2023-12-14T19:14:30.510427Z",
     "iopub.status.idle": "2023-12-14T19:14:30.536767Z",
     "shell.execute_reply": "2023-12-14T19:14:30.535674Z"
    },
    "papermill": {
     "duration": 0.037594,
     "end_time": "2023-12-14T19:14:30.538874",
     "exception": false,
     "start_time": "2023-12-14T19:14:30.501280",
     "status": "completed"
    },
    "tags": []
   },
   "outputs": [
    {
     "name": "stdout",
     "output_type": "stream",
     "text": [
      "<class 'pandas.core.frame.DataFrame'>\n",
      "RangeIndex: 1000 entries, 0 to 999\n",
      "Data columns (total 2 columns):\n",
      " #   Column  Non-Null Count  Dtype \n",
      "---  ------  --------------  ----- \n",
      " 0   Review  1000 non-null   object\n",
      " 1   Liked   1000 non-null   int64 \n",
      "dtypes: int64(1), object(1)\n",
      "memory usage: 15.8+ KB\n"
     ]
    }
   ],
   "source": [
    "df.info() #we dont have nulls"
   ]
  },
  {
   "cell_type": "markdown",
   "id": "9b4bab70",
   "metadata": {
    "papermill": {
     "duration": 0.007896,
     "end_time": "2023-12-14T19:14:30.555482",
     "exception": false,
     "start_time": "2023-12-14T19:14:30.547586",
     "status": "completed"
    },
    "tags": []
   },
   "source": [
    "# **Data Analysis**"
   ]
  },
  {
   "cell_type": "markdown",
   "id": "a5577bdb",
   "metadata": {
    "papermill": {
     "duration": 0.007896,
     "end_time": "2023-12-14T19:14:30.571706",
     "exception": false,
     "start_time": "2023-12-14T19:14:30.563810",
     "status": "completed"
    },
    "tags": []
   },
   "source": [
    "**- How many likes and dislikes ?**"
   ]
  },
  {
   "cell_type": "code",
   "execution_count": 5,
   "id": "140c3a55",
   "metadata": {
    "execution": {
     "iopub.execute_input": "2023-12-14T19:14:30.588757Z",
     "iopub.status.busy": "2023-12-14T19:14:30.588509Z",
     "iopub.status.idle": "2023-12-14T19:14:30.756419Z",
     "shell.execute_reply": "2023-12-14T19:14:30.755035Z"
    },
    "papermill": {
     "duration": 0.180711,
     "end_time": "2023-12-14T19:14:30.760425",
     "exception": false,
     "start_time": "2023-12-14T19:14:30.579714",
     "status": "completed"
    },
    "tags": []
   },
   "outputs": [
    {
     "data": {
      "image/png": "[encoded data removed]",
      "text/plain": [
       "<Figure size 640x480 with 1 Axes>"
      ]
     },
     "metadata": {},
     "output_type": "display_data"
    }
   ],
   "source": [
    "df['Liked'].value_counts().plot.pie(autopct='%0.1f%%',colors=['g','r'])\n",
    "plt.show()"
   ]
  },
  {
   "cell_type": "markdown",
   "id": "85cd2ce3",
   "metadata": {
    "papermill": {
     "duration": 0.020154,
     "end_time": "2023-12-14T19:14:30.801040",
     "exception": false,
     "start_time": "2023-12-14T19:14:30.780886",
     "status": "completed"
    },
    "tags": []
   },
   "source": [
    "**- How many characters in each review ?**"
   ]
  },
  {
   "cell_type": "markdown",
   "id": "e49ed538",
   "metadata": {
    "papermill": {
     "duration": 0.013927,
     "end_time": "2023-12-14T19:14:30.834807",
     "exception": false,
     "start_time": "2023-12-14T19:14:30.820880",
     "status": "completed"
    },
    "tags": []
   },
   "source": [
    "**to count that we will creat a new column (characters_count)**"
   ]
  },
  {
   "cell_type": "code",
   "execution_count": 6,
   "id": "0c092275",
   "metadata": {
    "execution": {
     "iopub.execute_input": "2023-12-14T19:14:30.852476Z",
     "iopub.status.busy": "2023-12-14T19:14:30.852172Z",
     "iopub.status.idle": "2023-12-14T19:14:30.857343Z",
     "shell.execute_reply": "2023-12-14T19:14:30.856622Z"
    },
    "papermill": {
     "duration": 0.016128,
     "end_time": "2023-12-14T19:14:30.859207",
     "exception": false,
     "start_time": "2023-12-14T19:14:30.843079",
     "status": "completed"
    },
    "tags": []
   },
   "outputs": [],
   "source": [
    "df['characters_count'] = df['Review'].apply(len)"
   ]
  },
  {
   "cell_type": "code",
   "execution_count": 7,
   "id": "6d53ba61",
   "metadata": {
    "execution": {
     "iopub.execute_input": "2023-12-14T19:14:30.878279Z",
     "iopub.status.busy": "2023-12-14T19:14:30.878035Z",
     "iopub.status.idle": "2023-12-14T19:14:30.888618Z",
     "shell.execute_reply": "2023-12-14T19:14:30.887784Z"
    },
    "papermill": {
     "duration": 0.022358,
     "end_time": "2023-12-14T19:14:30.890636",
     "exception": false,
     "start_time": "2023-12-14T19:14:30.868278",
     "status": "completed"
    },
    "tags": []
   },
   "outputs": [
    {
     "data": {
      "text/html": [
       "<div>\n",
       "<style scoped>\n",
       "    .dataframe tbody tr th:only-of-type {\n",
       "        vertical-align: middle;\n",
       "    }\n",
       "\n",
       "    .dataframe tbody tr th {\n",
       "        vertical-align: top;\n",
       "    }\n",
       "\n",
       "    .dataframe thead th {\n",
       "        text-align: right;\n",
       "    }\n",
       "</style>\n",
       "<table border=\"1\" class=\"dataframe\">\n",
       "  <thead>\n",
       "    <tr style=\"text-align: right;\">\n",
       "      <th></th>\n",
       "      <th>Review</th>\n",
       "      <th>Liked</th>\n",
       "      <th>characters_count</th>\n",
       "    </tr>\n",
       "  </thead>\n",
       "  <tbody>\n",
       "    <tr>\n",
       "      <th>0</th>\n",
       "      <td>Wow... Loved this place.</td>\n",
       "      <td>1</td>\n",
       "      <td>24</td>\n",
       "    </tr>\n",
       "    <tr>\n",
       "      <th>1</th>\n",
       "      <td>Crust is not good.</td>\n",
       "      <td>0</td>\n",
       "      <td>18</td>\n",
       "    </tr>\n",
       "    <tr>\n",
       "      <th>2</th>\n",
       "      <td>Not tasty and the texture was just nasty.</td>\n",
       "      <td>0</td>\n",
       "      <td>41</td>\n",
       "    </tr>\n",
       "    <tr>\n",
       "      <th>3</th>\n",
       "      <td>Stopped by during the late May bank holiday of...</td>\n",
       "      <td>1</td>\n",
       "      <td>87</td>\n",
       "    </tr>\n",
       "    <tr>\n",
       "      <th>4</th>\n",
       "      <td>The selection on the menu was great and so wer...</td>\n",
       "      <td>1</td>\n",
       "      <td>59</td>\n",
       "    </tr>\n",
       "    <tr>\n",
       "      <th>...</th>\n",
       "      <td>...</td>\n",
       "      <td>...</td>\n",
       "      <td>...</td>\n",
       "    </tr>\n",
       "    <tr>\n",
       "      <th>995</th>\n",
       "      <td>I think food should have flavor and texture an...</td>\n",
       "      <td>0</td>\n",
       "      <td>66</td>\n",
       "    </tr>\n",
       "    <tr>\n",
       "      <th>996</th>\n",
       "      <td>Appetite instantly gone.</td>\n",
       "      <td>0</td>\n",
       "      <td>24</td>\n",
       "    </tr>\n",
       "    <tr>\n",
       "      <th>997</th>\n",
       "      <td>Overall I was not impressed and would not go b...</td>\n",
       "      <td>0</td>\n",
       "      <td>50</td>\n",
       "    </tr>\n",
       "    <tr>\n",
       "      <th>998</th>\n",
       "      <td>The whole experience was underwhelming, and I ...</td>\n",
       "      <td>0</td>\n",
       "      <td>91</td>\n",
       "    </tr>\n",
       "    <tr>\n",
       "      <th>999</th>\n",
       "      <td>Then, as if I hadn't wasted enough of my life ...</td>\n",
       "      <td>0</td>\n",
       "      <td>134</td>\n",
       "    </tr>\n",
       "  </tbody>\n",
       "</table>\n",
       "<p>1000 rows × 3 columns</p>\n",
       "</div>"
      ],
      "text/plain": [
       "                                                Review  Liked  \\\n",
       "0                             Wow... Loved this place.      1   \n",
       "1                                   Crust is not good.      0   \n",
       "2            Not tasty and the texture was just nasty.      0   \n",
       "3    Stopped by during the late May bank holiday of...      1   \n",
       "4    The selection on the menu was great and so wer...      1   \n",
       "..                                                 ...    ...   \n",
       "995  I think food should have flavor and texture an...      0   \n",
       "996                           Appetite instantly gone.      0   \n",
       "997  Overall I was not impressed and would not go b...      0   \n",
       "998  The whole experience was underwhelming, and I ...      0   \n",
       "999  Then, as if I hadn't wasted enough of my life ...      0   \n",
       "\n",
       "     characters_count  \n",
       "0                  24  \n",
       "1                  18  \n",
       "2                  41  \n",
       "3                  87  \n",
       "4                  59  \n",
       "..                ...  \n",
       "995                66  \n",
       "996                24  \n",
       "997                50  \n",
       "998                91  \n",
       "999               134  \n",
       "\n",
       "[1000 rows x 3 columns]"
      ]
     },
     "execution_count": 7,
     "metadata": {},
     "output_type": "execute_result"
    }
   ],
   "source": [
    "df"
   ]
  },
  {
   "cell_type": "code",
   "execution_count": 8,
   "id": "9d86d0b0",
   "metadata": {
    "execution": {
     "iopub.execute_input": "2023-12-14T19:14:30.909126Z",
     "iopub.status.busy": "2023-12-14T19:14:30.908864Z",
     "iopub.status.idle": "2023-12-14T19:14:30.914689Z",
     "shell.execute_reply": "2023-12-14T19:14:30.913894Z"
    },
    "papermill": {
     "duration": 0.016827,
     "end_time": "2023-12-14T19:14:30.916484",
     "exception": false,
     "start_time": "2023-12-14T19:14:30.899657",
     "status": "completed"
    },
    "tags": []
   },
   "outputs": [
    {
     "data": {
      "text/plain": [
       "(149, 985)"
      ]
     },
     "execution_count": 8,
     "metadata": {},
     "output_type": "execute_result"
    }
   ],
   "source": [
    "df['characters_count'].max() , df['characters_count'].idxmax()"
   ]
  },
  {
   "cell_type": "code",
   "execution_count": 9,
   "id": "9b0d2fbd",
   "metadata": {
    "execution": {
     "iopub.execute_input": "2023-12-14T19:14:30.935230Z",
     "iopub.status.busy": "2023-12-14T19:14:30.934973Z",
     "iopub.status.idle": "2023-12-14T19:14:30.941017Z",
     "shell.execute_reply": "2023-12-14T19:14:30.940306Z"
    },
    "papermill": {
     "duration": 0.017244,
     "end_time": "2023-12-14T19:14:30.942823",
     "exception": false,
     "start_time": "2023-12-14T19:14:30.925579",
     "status": "completed"
    },
    "tags": []
   },
   "outputs": [
    {
     "data": {
      "text/plain": [
       "'The problem I have is that they charge $11.99 for a sandwich that is no bigger than a Subway sub (which offers better and more amount of vegetables).'"
      ]
     },
     "execution_count": 9,
     "metadata": {},
     "output_type": "execute_result"
    }
   ],
   "source": [
    "df.loc[985, 'Review']\n",
    "#This is the tallest review (149 character)"
   ]
  },
  {
   "cell_type": "code",
   "execution_count": 10,
   "id": "e18f5940",
   "metadata": {
    "execution": {
     "iopub.execute_input": "2023-12-14T19:14:30.961462Z",
     "iopub.status.busy": "2023-12-14T19:14:30.961201Z",
     "iopub.status.idle": "2023-12-14T19:14:30.966616Z",
     "shell.execute_reply": "2023-12-14T19:14:30.965805Z"
    },
    "papermill": {
     "duration": 0.016952,
     "end_time": "2023-12-14T19:14:30.968593",
     "exception": false,
     "start_time": "2023-12-14T19:14:30.951641",
     "status": "completed"
    },
    "tags": []
   },
   "outputs": [
    {
     "data": {
      "text/plain": [
       "58.315"
      ]
     },
     "execution_count": 10,
     "metadata": {},
     "output_type": "execute_result"
    }
   ],
   "source": [
    "df['characters_count'].mean() #"
   ]
  },
  {
   "cell_type": "markdown",
   "id": "1df127c4",
   "metadata": {
    "papermill": {
     "duration": 0.009359,
     "end_time": "2023-12-14T19:14:30.987178",
     "exception": false,
     "start_time": "2023-12-14T19:14:30.977819",
     "status": "completed"
    },
    "tags": []
   },
   "source": [
    "# **Text Pre-Processing**"
   ]
  },
  {
   "cell_type": "code",
   "execution_count": 11,
   "id": "d555274b",
   "metadata": {
    "execution": {
     "iopub.execute_input": "2023-12-14T19:14:31.008069Z",
     "iopub.status.busy": "2023-12-14T19:14:31.007342Z",
     "iopub.status.idle": "2023-12-14T19:14:31.880490Z",
     "shell.execute_reply": "2023-12-14T19:14:31.878877Z"
    },
    "papermill": {
     "duration": 0.88632,
     "end_time": "2023-12-14T19:14:31.883025",
     "exception": false,
     "start_time": "2023-12-14T19:14:30.996705",
     "status": "completed"
    },
    "tags": []
   },
   "outputs": [
    {
     "name": "stdout",
     "output_type": "stream",
     "text": [
      "[nltk_data] Downloading package stopwords to /usr/share/nltk_data...\n",
      "[nltk_data]   Package stopwords is already up-to-date!\n",
      "['i', 'me', 'my', 'myself', 'we', 'our', 'ours', 'ourselves', 'you', \"you're\", \"you've\", \"you'll\", \"you'd\", 'your', 'yours', 'yourself', 'yourselves', 'he', 'him', 'his', 'himself', 'she', \"she's\", 'her', 'hers', 'herself', 'it', \"it's\", 'its', 'itself', 'they', 'them', 'their', 'theirs', 'themselves', 'what', 'which', 'who', 'whom', 'this', 'that', \"that'll\", 'these', 'those', 'am', 'is', 'are', 'was', 'were', 'be', 'been', 'being', 'have', 'has', 'had', 'having', 'do', 'does', 'did', 'doing', 'a', 'an', 'the', 'and', 'but', 'if', 'or', 'because', 'as', 'until', 'while', 'of', 'at', 'by', 'for', 'with', 'about', 'against', 'between', 'into', 'through', 'during', 'before', 'after', 'above', 'below', 'to', 'from', 'up', 'down', 'in', 'out', 'on', 'off', 'over', 'under', 'again', 'further', 'then', 'once', 'here', 'there', 'when', 'where', 'why', 'how', 'all', 'any', 'both', 'each', 'few', 'more', 'most', 'other', 'some', 'such', 'no', 'nor', 'not', 'only', 'own', 'same', 'so', 'than', 'too', 'very', 's', 't', 'can', 'will', 'just', 'don', \"don't\", 'should', \"should've\", 'now', 'd', 'll', 'm', 'o', 're', 've', 'y', 'ain', 'aren', \"aren't\", 'couldn', \"couldn't\", 'didn', \"didn't\", 'doesn', \"doesn't\", 'hadn', \"hadn't\", 'hasn', \"hasn't\", 'haven', \"haven't\", 'isn', \"isn't\", 'ma', 'mightn', \"mightn't\", 'mustn', \"mustn't\", 'needn', \"needn't\", 'shan', \"shan't\", 'shouldn', \"shouldn't\", 'wasn', \"wasn't\", 'weren', \"weren't\", 'won', \"won't\", 'wouldn', \"wouldn't\"]\n"
     ]
    }
   ],
   "source": [
    "import nltk\n",
    "from nltk.corpus import stopwords\n",
    "nltk.download('stopwords')\n",
    "print(stopwords.words('english'))"
   ]
  },
  {
   "cell_type": "markdown",
   "id": "06fc7ff8",
   "metadata": {
    "papermill": {
     "duration": 0.009439,
     "end_time": "2023-12-14T19:14:31.904172",
     "exception": false,
     "start_time": "2023-12-14T19:14:31.894733",
     "status": "completed"
    },
    "tags": []
   },
   "source": [
    "**Stemming**"
   ]
  },
  {
   "cell_type": "code",
   "execution_count": 12,
   "id": "3b476149",
   "metadata": {
    "execution": {
     "iopub.execute_input": "2023-12-14T19:14:31.926329Z",
     "iopub.status.busy": "2023-12-14T19:14:31.926014Z",
     "iopub.status.idle": "2023-12-14T19:14:31.930080Z",
     "shell.execute_reply": "2023-12-14T19:14:31.929333Z"
    },
    "papermill": {
     "duration": 0.016028,
     "end_time": "2023-12-14T19:14:31.932001",
     "exception": false,
     "start_time": "2023-12-14T19:14:31.915973",
     "status": "completed"
    },
    "tags": []
   },
   "outputs": [],
   "source": [
    "from nltk.stem.porter import PorterStemmer\n",
    "import re"
   ]
  },
  {
   "cell_type": "code",
   "execution_count": 13,
   "id": "7436760e",
   "metadata": {
    "execution": {
     "iopub.execute_input": "2023-12-14T19:14:31.952286Z",
     "iopub.status.busy": "2023-12-14T19:14:31.952021Z",
     "iopub.status.idle": "2023-12-14T19:14:31.955756Z",
     "shell.execute_reply": "2023-12-14T19:14:31.955074Z"
    },
    "papermill": {
     "duration": 0.016025,
     "end_time": "2023-12-14T19:14:31.957865",
     "exception": false,
     "start_time": "2023-12-14T19:14:31.941840",
     "status": "completed"
    },
    "tags": []
   },
   "outputs": [],
   "source": [
    "port_stem = PorterStemmer()"
   ]
  },
  {
   "cell_type": "code",
   "execution_count": 14,
   "id": "95d32b9a",
   "metadata": {
    "execution": {
     "iopub.execute_input": "2023-12-14T19:14:31.977925Z",
     "iopub.status.busy": "2023-12-14T19:14:31.977415Z",
     "iopub.status.idle": "2023-12-14T19:14:31.983093Z",
     "shell.execute_reply": "2023-12-14T19:14:31.982247Z"
    },
    "papermill": {
     "duration": 0.018061,
     "end_time": "2023-12-14T19:14:31.985068",
     "exception": false,
     "start_time": "2023-12-14T19:14:31.967007",
     "status": "completed"
    },
    "tags": []
   },
   "outputs": [],
   "source": [
    "def stemming(content):\n",
    "    stemmed_content = re.sub('[^a-zA-Z]',' ',content)\n",
    "    stemmed_content = stemmed_content.lower()\n",
    "    stemmed_content = stemmed_content.split()\n",
    "    stop_words = set(stopwords.words('english'))\n",
    "    stemmed_content = [port_stem.stem(word) for word in stemmed_content if word.lower() not in stop_words or word.lower() == 'not']\n",
    "    stemmed_content = ' '.join(stemmed_content)\n",
    "    return stemmed_content\n"
   ]
  },
  {
   "cell_type": "code",
   "execution_count": 15,
   "id": "3ba704d5",
   "metadata": {
    "execution": {
     "iopub.execute_input": "2023-12-14T19:14:32.006127Z",
     "iopub.status.busy": "2023-12-14T19:14:32.005849Z",
     "iopub.status.idle": "2023-12-14T19:14:32.372252Z",
     "shell.execute_reply": "2023-12-14T19:14:32.371304Z"
    },
    "papermill": {
     "duration": 0.379402,
     "end_time": "2023-12-14T19:14:32.374666",
     "exception": false,
     "start_time": "2023-12-14T19:14:31.995264",
     "status": "completed"
    },
    "tags": []
   },
   "outputs": [],
   "source": [
    "# applying our function on review column\n",
    "df['Review'] = df['Review'].apply(stemming)"
   ]
  },
  {
   "cell_type": "code",
   "execution_count": 16,
   "id": "355beb08",
   "metadata": {
    "execution": {
     "iopub.execute_input": "2023-12-14T19:14:32.396286Z",
     "iopub.status.busy": "2023-12-14T19:14:32.395859Z",
     "iopub.status.idle": "2023-12-14T19:14:32.404971Z",
     "shell.execute_reply": "2023-12-14T19:14:32.404137Z"
    },
    "papermill": {
     "duration": 0.02345,
     "end_time": "2023-12-14T19:14:32.407592",
     "exception": false,
     "start_time": "2023-12-14T19:14:32.384142",
     "status": "completed"
    },
    "tags": []
   },
   "outputs": [
    {
     "data": {
      "text/plain": [
       "0                                         wow love place\n",
       "1                                         crust not good\n",
       "2                                 not tasti textur nasti\n",
       "3      stop late may bank holiday rick steve recommen...\n",
       "4                                select menu great price\n",
       "                             ...                        \n",
       "995                        think food flavor textur lack\n",
       "996                               appetit instantli gone\n",
       "997                 overal not impress would not go back\n",
       "998    whole experi underwhelm think go ninja sushi n...\n",
       "999    wast enough life pour salt wound draw time too...\n",
       "Name: Review, Length: 1000, dtype: object"
      ]
     },
     "execution_count": 16,
     "metadata": {},
     "output_type": "execute_result"
    }
   ],
   "source": [
    "df['Review'] #Review after stemming"
   ]
  },
  {
   "cell_type": "markdown",
   "id": "e743d2fe",
   "metadata": {
    "papermill": {
     "duration": 0.014165,
     "end_time": "2023-12-14T19:14:32.433209",
     "exception": false,
     "start_time": "2023-12-14T19:14:32.419044",
     "status": "completed"
    },
    "tags": []
   },
   "source": [
    "# **Creating Model**"
   ]
  },
  {
   "cell_type": "code",
   "execution_count": 17,
   "id": "cb4cbdf7",
   "metadata": {
    "execution": {
     "iopub.execute_input": "2023-12-14T19:14:32.457639Z",
     "iopub.status.busy": "2023-12-14T19:14:32.457030Z",
     "iopub.status.idle": "2023-12-14T19:14:32.465326Z",
     "shell.execute_reply": "2023-12-14T19:14:32.464434Z"
    },
    "papermill": {
     "duration": 0.024119,
     "end_time": "2023-12-14T19:14:32.468041",
     "exception": false,
     "start_time": "2023-12-14T19:14:32.443922",
     "status": "completed"
    },
    "tags": []
   },
   "outputs": [],
   "source": [
    "from sklearn.feature_extraction.text import CountVectorizer\n",
    "from sklearn.model_selection import train_test_split\n",
    "from sklearn.linear_model import LogisticRegression\n",
    "from sklearn.metrics import accuracy_score, classification_report\n",
    "from sklearn.pipeline import make_pipeline\n",
    "from sklearn.feature_extraction.text import TfidfTransformer\n",
    "\n"
   ]
  },
  {
   "cell_type": "code",
   "execution_count": 18,
   "id": "bab899a0",
   "metadata": {
    "execution": {
     "iopub.execute_input": "2023-12-14T19:14:32.492223Z",
     "iopub.status.busy": "2023-12-14T19:14:32.491943Z",
     "iopub.status.idle": "2023-12-14T19:14:32.496266Z",
     "shell.execute_reply": "2023-12-14T19:14:32.495344Z"
    },
    "papermill": {
     "duration": 0.018904,
     "end_time": "2023-12-14T19:14:32.498227",
     "exception": false,
     "start_time": "2023-12-14T19:14:32.479323",
     "status": "completed"
    },
    "tags": []
   },
   "outputs": [],
   "source": [
    "X = df['Review'] \n",
    "y = df['Liked']"
   ]
  },
  {
   "cell_type": "code",
   "execution_count": 19,
   "id": "330f323d",
   "metadata": {
    "execution": {
     "iopub.execute_input": "2023-12-14T19:14:32.520346Z",
     "iopub.status.busy": "2023-12-14T19:14:32.520036Z",
     "iopub.status.idle": "2023-12-14T19:14:32.529593Z",
     "shell.execute_reply": "2023-12-14T19:14:32.528778Z"
    },
    "papermill": {
     "duration": 0.023084,
     "end_time": "2023-12-14T19:14:32.531720",
     "exception": false,
     "start_time": "2023-12-14T19:14:32.508636",
     "status": "completed"
    },
    "tags": []
   },
   "outputs": [],
   "source": [
    "X_train, X_test, y_train, y_test = train_test_split(X, y, test_size=0.3, random_state=42,shuffle=True)"
   ]
  },
  {
   "cell_type": "code",
   "execution_count": 20,
   "id": "b872a5be",
   "metadata": {
    "execution": {
     "iopub.execute_input": "2023-12-14T19:14:32.552133Z",
     "iopub.status.busy": "2023-12-14T19:14:32.551337Z",
     "iopub.status.idle": "2023-12-14T19:14:32.556368Z",
     "shell.execute_reply": "2023-12-14T19:14:32.555531Z"
    },
    "papermill": {
     "duration": 0.017103,
     "end_time": "2023-12-14T19:14:32.558352",
     "exception": false,
     "start_time": "2023-12-14T19:14:32.541249",
     "status": "completed"
    },
    "tags": []
   },
   "outputs": [],
   "source": [
    "LR = make_pipeline(\n",
    "    CountVectorizer(),  # تحويل النصوص إلى متجهات عددية\n",
    "    TfidfTransformer(),  # تحسين التركيبة العددية باستخدام TF-IDF\n",
    "    LogisticRegression(max_iter=1000))"
   ]
  },
  {
   "cell_type": "code",
   "execution_count": 21,
   "id": "bce49336",
   "metadata": {
    "execution": {
     "iopub.execute_input": "2023-12-14T19:14:32.625116Z",
     "iopub.status.busy": "2023-12-14T19:14:32.624162Z",
     "iopub.status.idle": "2023-12-14T19:14:32.698175Z",
     "shell.execute_reply": "2023-12-14T19:14:32.697172Z"
    },
    "papermill": {
     "duration": 0.087174,
     "end_time": "2023-12-14T19:14:32.700656",
     "exception": false,
     "start_time": "2023-12-14T19:14:32.613482",
     "status": "completed"
    },
    "tags": []
   },
   "outputs": [
    {
     "data": {
      "text/html": [
       "<style>#sk-container-id-1 {color: black;background-color: white;}#sk-container-id-1 pre{padding: 0;}#sk-container-id-1 div.sk-toggleable {background-color: white;}#sk-container-id-1 label.sk-toggleable__label {cursor: pointer;display: block;width: 100%;margin-bottom: 0;padding: 0.3em;box-sizing: border-box;text-align: center;}#sk-container-id-1 label.sk-toggleable__label-arrow:before {content: \"▸\";float: left;margin-right: 0.25em;color: #696969;}#sk-container-id-1 label.sk-toggleable__label-arrow:hover:before {color: black;}#sk-container-id-1 div.sk-estimator:hover label.sk-toggleable__label-arrow:before {color: black;}#sk-container-id-1 div.sk-toggleable__content {max-height: 0;max-width: 0;overflow: hidden;text-align: left;background-color: #f0f8ff;}#sk-container-id-1 div.sk-toggleable__content pre {margin: 0.2em;color: black;border-radius: 0.25em;background-color: #f0f8ff;}#sk-container-id-1 input.sk-toggleable__control:checked~div.sk-toggleable__content {max-height: 200px;max-width: 100%;overflow: auto;}#sk-container-id-1 input.sk-toggleable__control:checked~label.sk-toggleable__label-arrow:before {content: \"▾\";}#sk-container-id-1 div.sk-estimator input.sk-toggleable__control:checked~label.sk-toggleable__label {background-color: #d4ebff;}#sk-container-id-1 div.sk-label input.sk-toggleable__control:checked~label.sk-toggleable__label {background-color: #d4ebff;}#sk-container-id-1 input.sk-hidden--visually {border: 0;clip: rect(1px 1px 1px 1px);clip: rect(1px, 1px, 1px, 1px);height: 1px;margin: -1px;overflow: hidden;padding: 0;position: absolute;width: 1px;}#sk-container-id-1 div.sk-estimator {font-family: monospace;background-color: #f0f8ff;border: 1px dotted black;border-radius: 0.25em;box-sizing: border-box;margin-bottom: 0.5em;}#sk-container-id-1 div.sk-estimator:hover {background-color: #d4ebff;}#sk-container-id-1 div.sk-parallel-item::after {content: \"\";width: 100%;border-bottom: 1px solid gray;flex-grow: 1;}#sk-container-id-1 div.sk-label:hover label.sk-toggleable__label {background-color: #d4ebff;}#sk-container-id-1 div.sk-serial::before {content: \"\";position: absolute;border-left: 1px solid gray;box-sizing: border-box;top: 0;bottom: 0;left: 50%;z-index: 0;}#sk-container-id-1 div.sk-serial {display: flex;flex-direction: column;align-items: center;background-color: white;padding-right: 0.2em;padding-left: 0.2em;position: relative;}#sk-container-id-1 div.sk-item {position: relative;z-index: 1;}#sk-container-id-1 div.sk-parallel {display: flex;align-items: stretch;justify-content: center;background-color: white;position: relative;}#sk-container-id-1 div.sk-item::before, #sk-container-id-1 div.sk-parallel-item::before {content: \"\";position: absolute;border-left: 1px solid gray;box-sizing: border-box;top: 0;bottom: 0;left: 50%;z-index: -1;}#sk-container-id-1 div.sk-parallel-item {display: flex;flex-direction: column;z-index: 1;position: relative;background-color: white;}#sk-container-id-1 div.sk-parallel-item:first-child::after {align-self: flex-end;width: 50%;}#sk-container-id-1 div.sk-parallel-item:last-child::after {align-self: flex-start;width: 50%;}#sk-container-id-1 div.sk-parallel-item:only-child::after {width: 0;}#sk-container-id-1 div.sk-dashed-wrapped {border: 1px dashed gray;margin: 0 0.4em 0.5em 0.4em;box-sizing: border-box;padding-bottom: 0.4em;background-color: white;}#sk-container-id-1 div.sk-label label {font-family: monospace;font-weight: bold;display: inline-block;line-height: 1.2em;}#sk-container-id-1 div.sk-label-container {text-align: center;}#sk-container-id-1 div.sk-container {/* jupyter's `normalize.less` sets `[hidden] { display: none; }` but bootstrap.min.css set `[hidden] { display: none !important; }` so we also need the `!important` here to be able to override the default hidden behavior on the sphinx rendered scikit-learn.org. See: https://github.com/scikit-learn/scikit-learn/issues/21755 */display: inline-block !important;position: relative;}#sk-container-id-1 div.sk-text-repr-fallback {display: none;}</style><div id=\"sk-container-id-1\" class=\"sk-top-container\"><div class=\"sk-text-repr-fallback\"><pre>Pipeline(steps=[(&#x27;countvectorizer&#x27;, CountVectorizer()),\n",
       "                (&#x27;tfidftransformer&#x27;, TfidfTransformer()),\n",
       "                (&#x27;logisticregression&#x27;, LogisticRegression(max_iter=1000))])</pre><b>In a Jupyter environment, please rerun this cell to show the HTML representation or trust the notebook. <br />On GitHub, the HTML representation is unable to render, please try loading this page with nbviewer.org.</b></div><div class=\"sk-container\" hidden><div class=\"sk-item sk-dashed-wrapped\"><div class=\"sk-label-container\"><div class=\"sk-label sk-toggleable\"><input class=\"sk-toggleable__control sk-hidden--visually\" id=\"sk-estimator-id-1\" type=\"checkbox\" ><label for=\"sk-estimator-id-1\" class=\"sk-toggleable__label sk-toggleable__label-arrow\">Pipeline</label><div class=\"sk-toggleable__content\"><pre>Pipeline(steps=[(&#x27;countvectorizer&#x27;, CountVectorizer()),\n",
       "                (&#x27;tfidftransformer&#x27;, TfidfTransformer()),\n",
       "                (&#x27;logisticregression&#x27;, LogisticRegression(max_iter=1000))])</pre></div></div></div><div class=\"sk-serial\"><div class=\"sk-item\"><div class=\"sk-estimator sk-toggleable\"><input class=\"sk-toggleable__control sk-hidden--visually\" id=\"sk-estimator-id-2\" type=\"checkbox\" ><label for=\"sk-estimator-id-2\" class=\"sk-toggleable__label sk-toggleable__label-arrow\">CountVectorizer</label><div class=\"sk-toggleable__content\"><pre>CountVectorizer()</pre></div></div></div><div class=\"sk-item\"><div class=\"sk-estimator sk-toggleable\"><input class=\"sk-toggleable__control sk-hidden--visually\" id=\"sk-estimator-id-3\" type=\"checkbox\" ><label for=\"sk-estimator-id-3\" class=\"sk-toggleable__label sk-toggleable__label-arrow\">TfidfTransformer</label><div class=\"sk-toggleable__content\"><pre>TfidfTransformer()</pre></div></div></div><div class=\"sk-item\"><div class=\"sk-estimator sk-toggleable\"><input class=\"sk-toggleable__control sk-hidden--visually\" id=\"sk-estimator-id-4\" type=\"checkbox\" ><label for=\"sk-estimator-id-4\" class=\"sk-toggleable__label sk-toggleable__label-arrow\">LogisticRegression</label><div class=\"sk-toggleable__content\"><pre>LogisticRegression(max_iter=1000)</pre></div></div></div></div></div></div></div>"
      ],
      "text/plain": [
       "Pipeline(steps=[('countvectorizer', CountVectorizer()),\n",
       "                ('tfidftransformer', TfidfTransformer()),\n",
       "                ('logisticregression', LogisticRegression(max_iter=1000))])"
      ]
     },
     "execution_count": 21,
     "metadata": {},
     "output_type": "execute_result"
    }
   ],
   "source": [
    "LR.fit(X_train, y_train)\n"
   ]
  },
  {
   "cell_type": "code",
   "execution_count": 22,
   "id": "b76c03b6",
   "metadata": {
    "execution": {
     "iopub.execute_input": "2023-12-14T19:14:32.727667Z",
     "iopub.status.busy": "2023-12-14T19:14:32.727282Z",
     "iopub.status.idle": "2023-12-14T19:14:32.751875Z",
     "shell.execute_reply": "2023-12-14T19:14:32.750599Z"
    },
    "papermill": {
     "duration": 0.038977,
     "end_time": "2023-12-14T19:14:32.754038",
     "exception": false,
     "start_time": "2023-12-14T19:14:32.715061",
     "status": "completed"
    },
    "tags": []
   },
   "outputs": [
    {
     "name": "stdout",
     "output_type": "stream",
     "text": [
      "Accuracy: 0.7866666666666666\n",
      "Classification Report:\n",
      "              precision    recall  f1-score   support\n",
      "\n",
      "           0       0.77      0.82      0.80       152\n",
      "           1       0.80      0.75      0.78       148\n",
      "\n",
      "    accuracy                           0.79       300\n",
      "   macro avg       0.79      0.79      0.79       300\n",
      "weighted avg       0.79      0.79      0.79       300\n",
      "\n"
     ]
    }
   ],
   "source": [
    "y_pred = LR.predict(X_test)\n",
    "accuracy = accuracy_score(y_test, y_pred)\n",
    "report = classification_report(y_test, y_pred)\n",
    "\n",
    "print(f'Accuracy: {accuracy}')\n",
    "print(f'Classification Report:\\n{report}')"
   ]
  }
 ],
 "metadata": {
  "kaggle": {
   "accelerator": "nvidiaTeslaT4",
   "dataSources": [
    {
     "datasetId": 1395030,
     "sourceId": 2312004,
     "sourceType": "datasetVersion"
    }
   ],
   "dockerImageVersionId": 30626,
   "isGpuEnabled": true,
   "isInternetEnabled": true,
   "language": "python",
   "sourceType": "notebook"
  },
  "kernelspec": {
   "display_name": "Python 3",
   "language": "python",
   "name": "python3"
  },
  "language_info": {
   "codemirror_mode": {
    "name": "ipython",
    "version": 3
   },
   "file_extension": ".py",
   "mimetype": "text/x-python",
   "name": "python",
   "nbconvert_exporter": "python",
   "pygments_lexer": "ipython3",
   "version": "3.10.12"
  },
  "papermill": {
   "default_parameters": {},
   "duration": 8.238719,
   "end_time": "2023-12-14T19:14:33.283227",
   "environment_variables": {},
   "exception": null,
   "input_path": "__notebook__.ipynb",
   "output_path": "__notebook__.ipynb",
   "parameters": {},
   "start_time": "2023-12-14T19:14:25.044508",
   "version": "2.4.0"
  }
 },
 "nbformat": 4,
 "nbformat_minor": 5
}
