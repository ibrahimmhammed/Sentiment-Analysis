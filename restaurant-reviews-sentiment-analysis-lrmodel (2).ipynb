{
 "cells": [
  {
   "cell_type": "markdown",
   "id": "a06130ba",
   "metadata": {
    "papermill": {
     "duration": 0.008355,
     "end_time": "2023-12-14T21:06:21.425604",
     "exception": false,
     "start_time": "2023-12-14T21:06:21.417249",
     "status": "completed"
    },
    "tags": []
   },
   "source": [
    "# **Importing Libraries**"
   ]
  },
  {
   "cell_type": "code",
   "execution_count": 1,
   "id": "8a204c3b",
   "metadata": {
    "execution": {
     "iopub.execute_input": "2023-12-14T21:06:21.443688Z",
     "iopub.status.busy": "2023-12-14T21:06:21.442917Z",
     "iopub.status.idle": "2023-12-14T21:06:23.274655Z",
     "shell.execute_reply": "2023-12-14T21:06:23.273680Z"
    },
    "papermill": {
     "duration": 1.84297,
     "end_time": "2023-12-14T21:06:23.276691",
     "exception": false,
     "start_time": "2023-12-14T21:06:21.433721",
     "status": "completed"
    },
    "tags": []
   },
   "outputs": [
    {
     "name": "stderr",
     "output_type": "stream",
     "text": [
      "/opt/conda/lib/python3.10/site-packages/scipy/__init__.py:146: UserWarning: A NumPy version >=1.16.5 and <1.23.0 is required for this version of SciPy (detected version 1.24.3\n",
      "  warnings.warn(f\"A NumPy version >={np_minversion} and <{np_maxversion}\"\n"
     ]
    },
    {
     "name": "stdout",
     "output_type": "stream",
     "text": [
      "/kaggle/input/restaurant-reviews/Restaurant_Reviews.tsv\n"
     ]
    }
   ],
   "source": [
    "import numpy as np \n",
    "import pandas as pd \n",
    "import matplotlib.pyplot as plt\n",
    "import seaborn as sns\n",
    "import warnings\n",
    "warnings.filterwarnings('ignore')\n",
    "import os\n",
    "for dirname, _, filenames in os.walk('/kaggle/input'):\n",
    "    for filename in filenames:\n",
    "        print(os.path.join(dirname, filename))\n"
   ]
  },
  {
   "cell_type": "markdown",
   "id": "653e8038",
   "metadata": {
    "papermill": {
     "duration": 0.007789,
     "end_time": "2023-12-14T21:06:23.292597",
     "exception": false,
     "start_time": "2023-12-14T21:06:23.284808",
     "status": "completed"
    },
    "tags": []
   },
   "source": [
    "# **Reading Files**"
   ]
  },
  {
   "cell_type": "code",
   "execution_count": 2,
   "id": "170c38ee",
   "metadata": {
    "execution": {
     "iopub.execute_input": "2023-12-14T21:06:23.309605Z",
     "iopub.status.busy": "2023-12-14T21:06:23.309222Z",
     "iopub.status.idle": "2023-12-14T21:06:23.329023Z",
     "shell.execute_reply": "2023-12-14T21:06:23.328183Z"
    },
    "papermill": {
     "duration": 0.030627,
     "end_time": "2023-12-14T21:06:23.331177",
     "exception": false,
     "start_time": "2023-12-14T21:06:23.300550",
     "status": "completed"
    },
    "tags": []
   },
   "outputs": [],
   "source": [
    "df = pd.read_csv('/kaggle/input/restaurant-reviews/Restaurant_Reviews.tsv',sep='\\t')"
   ]
  },
  {
   "cell_type": "markdown",
   "id": "8d637f68",
   "metadata": {
    "papermill": {
     "duration": 0.008087,
     "end_time": "2023-12-14T21:06:23.348114",
     "exception": false,
     "start_time": "2023-12-14T21:06:23.340027",
     "status": "completed"
    },
    "tags": []
   },
   "source": [
    "# **Data Exploration**"
   ]
  },
  {
   "cell_type": "code",
   "execution_count": 3,
   "id": "e63ef816",
   "metadata": {
    "execution": {
     "iopub.execute_input": "2023-12-14T21:06:23.366127Z",
     "iopub.status.busy": "2023-12-14T21:06:23.365869Z",
     "iopub.status.idle": "2023-12-14T21:06:23.382205Z",
     "shell.execute_reply": "2023-12-14T21:06:23.381314Z"
    },
    "papermill": {
     "duration": 0.027869,
     "end_time": "2023-12-14T21:06:23.384549",
     "exception": false,
     "start_time": "2023-12-14T21:06:23.356680",
     "status": "completed"
    },
    "tags": []
   },
   "outputs": [
    {
     "data": {
      "text/html": [
       "<div>\n",
       "<style scoped>\n",
       "    .dataframe tbody tr th:only-of-type {\n",
       "        vertical-align: middle;\n",
       "    }\n",
       "\n",
       "    .dataframe tbody tr th {\n",
       "        vertical-align: top;\n",
       "    }\n",
       "\n",
       "    .dataframe thead th {\n",
       "        text-align: right;\n",
       "    }\n",
       "</style>\n",
       "<table border=\"1\" class=\"dataframe\">\n",
       "  <thead>\n",
       "    <tr style=\"text-align: right;\">\n",
       "      <th></th>\n",
       "      <th>Review</th>\n",
       "      <th>Liked</th>\n",
       "    </tr>\n",
       "  </thead>\n",
       "  <tbody>\n",
       "    <tr>\n",
       "      <th>0</th>\n",
       "      <td>Wow... Loved this place.</td>\n",
       "      <td>1</td>\n",
       "    </tr>\n",
       "    <tr>\n",
       "      <th>1</th>\n",
       "      <td>Crust is not good.</td>\n",
       "      <td>0</td>\n",
       "    </tr>\n",
       "    <tr>\n",
       "      <th>2</th>\n",
       "      <td>Not tasty and the texture was just nasty.</td>\n",
       "      <td>0</td>\n",
       "    </tr>\n",
       "    <tr>\n",
       "      <th>3</th>\n",
       "      <td>Stopped by during the late May bank holiday of...</td>\n",
       "      <td>1</td>\n",
       "    </tr>\n",
       "    <tr>\n",
       "      <th>4</th>\n",
       "      <td>The selection on the menu was great and so wer...</td>\n",
       "      <td>1</td>\n",
       "    </tr>\n",
       "  </tbody>\n",
       "</table>\n",
       "</div>"
      ],
      "text/plain": [
       "                                              Review  Liked\n",
       "0                           Wow... Loved this place.      1\n",
       "1                                 Crust is not good.      0\n",
       "2          Not tasty and the texture was just nasty.      0\n",
       "3  Stopped by during the late May bank holiday of...      1\n",
       "4  The selection on the menu was great and so wer...      1"
      ]
     },
     "execution_count": 3,
     "metadata": {},
     "output_type": "execute_result"
    }
   ],
   "source": [
    "df.head()"
   ]
  },
  {
   "cell_type": "code",
   "execution_count": 4,
   "id": "df48b70d",
   "metadata": {
    "execution": {
     "iopub.execute_input": "2023-12-14T21:06:23.405216Z",
     "iopub.status.busy": "2023-12-14T21:06:23.404937Z",
     "iopub.status.idle": "2023-12-14T21:06:23.429373Z",
     "shell.execute_reply": "2023-12-14T21:06:23.428324Z"
    },
    "papermill": {
     "duration": 0.035844,
     "end_time": "2023-12-14T21:06:23.431187",
     "exception": false,
     "start_time": "2023-12-14T21:06:23.395343",
     "status": "completed"
    },
    "tags": []
   },
   "outputs": [
    {
     "name": "stdout",
     "output_type": "stream",
     "text": [
      "<class 'pandas.core.frame.DataFrame'>\n",
      "RangeIndex: 1000 entries, 0 to 999\n",
      "Data columns (total 2 columns):\n",
      " #   Column  Non-Null Count  Dtype \n",
      "---  ------  --------------  ----- \n",
      " 0   Review  1000 non-null   object\n",
      " 1   Liked   1000 non-null   int64 \n",
      "dtypes: int64(1), object(1)\n",
      "memory usage: 15.8+ KB\n"
     ]
    }
   ],
   "source": [
    "df.info() #we dont have nulls"
   ]
  },
  {
   "cell_type": "markdown",
   "id": "4b9c7b5c",
   "metadata": {
    "papermill": {
     "duration": 0.008,
     "end_time": "2023-12-14T21:06:23.447304",
     "exception": false,
     "start_time": "2023-12-14T21:06:23.439304",
     "status": "completed"
    },
    "tags": []
   },
   "source": [
    "# **Data Analysis**"
   ]
  },
  {
   "cell_type": "markdown",
   "id": "7dfd619a",
   "metadata": {
    "papermill": {
     "duration": 0.008209,
     "end_time": "2023-12-14T21:06:23.463832",
     "exception": false,
     "start_time": "2023-12-14T21:06:23.455623",
     "status": "completed"
    },
    "tags": []
   },
   "source": [
    "**- How many likes and dislikes ?**"
   ]
  },
  {
   "cell_type": "code",
   "execution_count": 5,
   "id": "c6231a4c",
   "metadata": {
    "execution": {
     "iopub.execute_input": "2023-12-14T21:06:23.481191Z",
     "iopub.status.busy": "2023-12-14T21:06:23.480920Z",
     "iopub.status.idle": "2023-12-14T21:06:23.649657Z",
     "shell.execute_reply": "2023-12-14T21:06:23.648190Z"
    },
    "papermill": {
     "duration": 0.181144,
     "end_time": "2023-12-14T21:06:23.653186",
     "exception": false,
     "start_time": "2023-12-14T21:06:23.472042",
     "status": "completed"
    },
    "tags": []
   },
   "outputs": [
    {
     "data": {
      "image/png": "[encoded data removed]",
      "text/plain": [
       "<Figure size 640x480 with 1 Axes>"
      ]
     },
     "metadata": {},
     "output_type": "display_data"
    }
   ],
   "source": [
    "df['Liked'].value_counts().plot.pie(autopct='%0.1f%%',colors=['g','r'])\n",
    "plt.show()"
   ]
  },
  {
   "cell_type": "markdown",
   "id": "850b97c3",
   "metadata": {
    "papermill": {
     "duration": 0.020575,
     "end_time": "2023-12-14T21:06:23.693775",
     "exception": false,
     "start_time": "2023-12-14T21:06:23.673200",
     "status": "completed"
    },
    "tags": []
   },
   "source": [
    "**- How many characters in each review ?**"
   ]
  },
  {
   "cell_type": "markdown",
   "id": "bbf6d0a8",
   "metadata": {
    "papermill": {
     "duration": 0.014915,
     "end_time": "2023-12-14T21:06:23.728267",
     "exception": false,
     "start_time": "2023-12-14T21:06:23.713352",
     "status": "completed"
    },
    "tags": []
   },
   "source": [
    "**to count that we will creat a new column (characters_count)**"
   ]
  },
  {
   "cell_type": "code",
   "execution_count": 6,
   "id": "64ed3388",
   "metadata": {
    "execution": {
     "iopub.execute_input": "2023-12-14T21:06:23.746749Z",
     "iopub.status.busy": "2023-12-14T21:06:23.746463Z",
     "iopub.status.idle": "2023-12-14T21:06:23.751631Z",
     "shell.execute_reply": "2023-12-14T21:06:23.750861Z"
    },
    "papermill": {
     "duration": 0.016486,
     "end_time": "2023-12-14T21:06:23.753436",
     "exception": false,
     "start_time": "2023-12-14T21:06:23.736950",
     "status": "completed"
    },
    "tags": []
   },
   "outputs": [],
   "source": [
    "df['characters_count'] = df['Review'].apply(len)"
   ]
  },
  {
   "cell_type": "code",
   "execution_count": 7,
   "id": "ce8cefde",
   "metadata": {
    "execution": {
     "iopub.execute_input": "2023-12-14T21:06:23.772376Z",
     "iopub.status.busy": "2023-12-14T21:06:23.772079Z",
     "iopub.status.idle": "2023-12-14T21:06:23.783813Z",
     "shell.execute_reply": "2023-12-14T21:06:23.782939Z"
    },
    "papermill": {
     "duration": 0.0236,
     "end_time": "2023-12-14T21:06:23.785867",
     "exception": false,
     "start_time": "2023-12-14T21:06:23.762267",
     "status": "completed"
    },
    "tags": []
   },
   "outputs": [
    {
     "data": {
      "text/html": [
       "<div>\n",
       "<style scoped>\n",
       "    .dataframe tbody tr th:only-of-type {\n",
       "        vertical-align: middle;\n",
       "    }\n",
       "\n",
       "    .dataframe tbody tr th {\n",
       "        vertical-align: top;\n",
       "    }\n",
       "\n",
       "    .dataframe thead th {\n",
       "        text-align: right;\n",
       "    }\n",
       "</style>\n",
       "<table border=\"1\" class=\"dataframe\">\n",
       "  <thead>\n",
       "    <tr style=\"text-align: right;\">\n",
       "      <th></th>\n",
       "      <th>Review</th>\n",
       "      <th>Liked</th>\n",
       "      <th>characters_count</th>\n",
       "    </tr>\n",
       "  </thead>\n",
       "  <tbody>\n",
       "    <tr>\n",
       "      <th>0</th>\n",
       "      <td>Wow... Loved this place.</td>\n",
       "      <td>1</td>\n",
       "      <td>24</td>\n",
       "    </tr>\n",
       "    <tr>\n",
       "      <th>1</th>\n",
       "      <td>Crust is not good.</td>\n",
       "      <td>0</td>\n",
       "      <td>18</td>\n",
       "    </tr>\n",
       "    <tr>\n",
       "      <th>2</th>\n",
       "      <td>Not tasty and the texture was just nasty.</td>\n",
       "      <td>0</td>\n",
       "      <td>41</td>\n",
       "    </tr>\n",
       "    <tr>\n",
       "      <th>3</th>\n",
       "      <td>Stopped by during the late May bank holiday of...</td>\n",
       "      <td>1</td>\n",
       "      <td>87</td>\n",
       "    </tr>\n",
       "    <tr>\n",
       "      <th>4</th>\n",
       "      <td>The selection on the menu was great and so wer...</td>\n",
       "      <td>1</td>\n",
       "      <td>59</td>\n",
       "    </tr>\n",
       "    <tr>\n",
       "      <th>...</th>\n",
       "      <td>...</td>\n",
       "      <td>...</td>\n",
       "      <td>...</td>\n",
       "    </tr>\n",
       "    <tr>\n",
       "      <th>995</th>\n",
       "      <td>I think food should have flavor and texture an...</td>\n",
       "      <td>0</td>\n",
       "      <td>66</td>\n",
       "    </tr>\n",
       "    <tr>\n",
       "      <th>996</th>\n",
       "      <td>Appetite instantly gone.</td>\n",
       "      <td>0</td>\n",
       "      <td>24</td>\n",
       "    </tr>\n",
       "    <tr>\n",
       "      <th>997</th>\n",
       "      <td>Overall I was not impressed and would not go b...</td>\n",
       "      <td>0</td>\n",
       "      <td>50</td>\n",
       "    </tr>\n",
       "    <tr>\n",
       "      <th>998</th>\n",
       "      <td>The whole experience was underwhelming, and I ...</td>\n",
       "      <td>0</td>\n",
       "      <td>91</td>\n",
       "    </tr>\n",
       "    <tr>\n",
       "      <th>999</th>\n",
       "      <td>Then, as if I hadn't wasted enough of my life ...</td>\n",
       "      <td>0</td>\n",
       "      <td>134</td>\n",
       "    </tr>\n",
       "  </tbody>\n",
       "</table>\n",
       "<p>1000 rows × 3 columns</p>\n",
       "</div>"
      ],
      "text/plain": [
       "                                                Review  Liked  \\\n",
       "0                             Wow... Loved this place.      1   \n",
       "1                                   Crust is not good.      0   \n",
       "2            Not tasty and the texture was just nasty.      0   \n",
       "3    Stopped by during the late May bank holiday of...      1   \n",
       "4    The selection on the menu was great and so wer...      1   \n",
       "..                                                 ...    ...   \n",
       "995  I think food should have flavor and texture an...      0   \n",
       "996                           Appetite instantly gone.      0   \n",
       "997  Overall I was not impressed and would not go b...      0   \n",
       "998  The whole experience was underwhelming, and I ...      0   \n",
       "999  Then, as if I hadn't wasted enough of my life ...      0   \n",
       "\n",
       "     characters_count  \n",
       "0                  24  \n",
       "1                  18  \n",
       "2                  41  \n",
       "3                  87  \n",
       "4                  59  \n",
       "..                ...  \n",
       "995                66  \n",
       "996                24  \n",
       "997                50  \n",
       "998                91  \n",
       "999               134  \n",
       "\n",
       "[1000 rows x 3 columns]"
      ]
     },
     "execution_count": 7,
     "metadata": {},
     "output_type": "execute_result"
    }
   ],
   "source": [
    "df"
   ]
  },
  {
   "cell_type": "code",
   "execution_count": 8,
   "id": "e20476a4",
   "metadata": {
    "execution": {
     "iopub.execute_input": "2023-12-14T21:06:23.805675Z",
     "iopub.status.busy": "2023-12-14T21:06:23.805389Z",
     "iopub.status.idle": "2023-12-14T21:06:23.811436Z",
     "shell.execute_reply": "2023-12-14T21:06:23.810583Z"
    },
    "papermill": {
     "duration": 0.018084,
     "end_time": "2023-12-14T21:06:23.813406",
     "exception": false,
     "start_time": "2023-12-14T21:06:23.795322",
     "status": "completed"
    },
    "tags": []
   },
   "outputs": [
    {
     "data": {
      "text/plain": [
       "(149, 985)"
      ]
     },
     "execution_count": 8,
     "metadata": {},
     "output_type": "execute_result"
    }
   ],
   "source": [
    "df['characters_count'].max() , df['characters_count'].idxmax()"
   ]
  },
  {
   "cell_type": "code",
   "execution_count": 9,
   "id": "1d16b899",
   "metadata": {
    "execution": {
     "iopub.execute_input": "2023-12-14T21:06:23.833764Z",
     "iopub.status.busy": "2023-12-14T21:06:23.833510Z",
     "iopub.status.idle": "2023-12-14T21:06:23.838818Z",
     "shell.execute_reply": "2023-12-14T21:06:23.838082Z"
    },
    "papermill": {
     "duration": 0.017016,
     "end_time": "2023-12-14T21:06:23.840674",
     "exception": false,
     "start_time": "2023-12-14T21:06:23.823658",
     "status": "completed"
    },
    "tags": []
   },
   "outputs": [
    {
     "data": {
      "text/plain": [
       "'The problem I have is that they charge $11.99 for a sandwich that is no bigger than a Subway sub (which offers better and more amount of vegetables).'"
      ]
     },
     "execution_count": 9,
     "metadata": {},
     "output_type": "execute_result"
    }
   ],
   "source": [
    "df.loc[985, 'Review']\n",
    "#This is the tallest review (149 character)"
   ]
  },
  {
   "cell_type": "code",
   "execution_count": 10,
   "id": "1b037620",
   "metadata": {
    "execution": {
     "iopub.execute_input": "2023-12-14T21:06:23.859948Z",
     "iopub.status.busy": "2023-12-14T21:06:23.859684Z",
     "iopub.status.idle": "2023-12-14T21:06:23.864982Z",
     "shell.execute_reply": "2023-12-14T21:06:23.864244Z"
    },
    "papermill": {
     "duration": 0.017229,
     "end_time": "2023-12-14T21:06:23.866885",
     "exception": false,
     "start_time": "2023-12-14T21:06:23.849656",
     "status": "completed"
    },
    "tags": []
   },
   "outputs": [
    {
     "data": {
      "text/plain": [
       "58.315"
      ]
     },
     "execution_count": 10,
     "metadata": {},
     "output_type": "execute_result"
    }
   ],
   "source": [
    "df['characters_count'].mean() #"
   ]
  },
  {
   "cell_type": "markdown",
   "id": "f5c9b019",
   "metadata": {
    "papermill": {
     "duration": 0.009005,
     "end_time": "2023-12-14T21:06:23.884970",
     "exception": false,
     "start_time": "2023-12-14T21:06:23.875965",
     "status": "completed"
    },
    "tags": []
   },
   "source": [
    "# **Text Pre-Processing**"
   ]
  },
  {
   "cell_type": "code",
   "execution_count": 11,
   "id": "47a3f147",
   "metadata": {
    "execution": {
     "iopub.execute_input": "2023-12-14T21:06:23.904354Z",
     "iopub.status.busy": "2023-12-14T21:06:23.904087Z",
     "iopub.status.idle": "2023-12-14T21:06:24.834682Z",
     "shell.execute_reply": "2023-12-14T21:06:24.833147Z"
    },
    "papermill": {
     "duration": 0.943088,
     "end_time": "2023-12-14T21:06:24.837468",
     "exception": false,
     "start_time": "2023-12-14T21:06:23.894380",
     "status": "completed"
    },
    "tags": []
   },
   "outputs": [
    {
     "name": "stdout",
     "output_type": "stream",
     "text": [
      "[nltk_data] Downloading package stopwords to /usr/share/nltk_data...\n",
      "[nltk_data]   Package stopwords is already up-to-date!\n",
      "['i', 'me', 'my', 'myself', 'we', 'our', 'ours', 'ourselves', 'you', \"you're\", \"you've\", \"you'll\", \"you'd\", 'your', 'yours', 'yourself', 'yourselves', 'he', 'him', 'his', 'himself', 'she', \"she's\", 'her', 'hers', 'herself', 'it', \"it's\", 'its', 'itself', 'they', 'them', 'their', 'theirs', 'themselves', 'what', 'which', 'who', 'whom', 'this', 'that', \"that'll\", 'these', 'those', 'am', 'is', 'are', 'was', 'were', 'be', 'been', 'being', 'have', 'has', 'had', 'having', 'do', 'does', 'did', 'doing', 'a', 'an', 'the', 'and', 'but', 'if', 'or', 'because', 'as', 'until', 'while', 'of', 'at', 'by', 'for', 'with', 'about', 'against', 'between', 'into', 'through', 'during', 'before', 'after', 'above', 'below', 'to', 'from', 'up', 'down', 'in', 'out', 'on', 'off', 'over', 'under', 'again', 'further', 'then', 'once', 'here', 'there', 'when', 'where', 'why', 'how', 'all', 'any', 'both', 'each', 'few', 'more', 'most', 'other', 'some', 'such', 'no', 'nor', 'not', 'only', 'own', 'same', 'so', 'than', 'too', 'very', 's', 't', 'can', 'will', 'just', 'don', \"don't\", 'should', \"should've\", 'now', 'd', 'll', 'm', 'o', 're', 've', 'y', 'ain', 'aren', \"aren't\", 'couldn', \"couldn't\", 'didn', \"didn't\", 'doesn', \"doesn't\", 'hadn', \"hadn't\", 'hasn', \"hasn't\", 'haven', \"haven't\", 'isn', \"isn't\", 'ma', 'mightn', \"mightn't\", 'mustn', \"mustn't\", 'needn', \"needn't\", 'shan', \"shan't\", 'shouldn', \"shouldn't\", 'wasn', \"wasn't\", 'weren', \"weren't\", 'won', \"won't\", 'wouldn', \"wouldn't\"]\n"
     ]
    }
   ],
   "source": [
    "import nltk\n",
    "from nltk.corpus import stopwords\n",
    "nltk.download('stopwords')\n",
    "print(stopwords.words('english'))"
   ]
  },
  {
   "cell_type": "markdown",
   "id": "85f08b37",
   "metadata": {
    "papermill": {
     "duration": 0.012673,
     "end_time": "2023-12-14T21:06:24.861180",
     "exception": false,
     "start_time": "2023-12-14T21:06:24.848507",
     "status": "completed"
    },
    "tags": []
   },
   "source": [
    "**Stemming**"
   ]
  },
  {
   "cell_type": "code",
   "execution_count": 12,
   "id": "9615e158",
   "metadata": {
    "execution": {
     "iopub.execute_input": "2023-12-14T21:06:24.889762Z",
     "iopub.status.busy": "2023-12-14T21:06:24.888821Z",
     "iopub.status.idle": "2023-12-14T21:06:24.893968Z",
     "shell.execute_reply": "2023-12-14T21:06:24.893010Z"
    },
    "papermill": {
     "duration": 0.021395,
     "end_time": "2023-12-14T21:06:24.896075",
     "exception": false,
     "start_time": "2023-12-14T21:06:24.874680",
     "status": "completed"
    },
    "tags": []
   },
   "outputs": [],
   "source": [
    "from nltk.stem.porter import PorterStemmer\n",
    "import re"
   ]
  },
  {
   "cell_type": "code",
   "execution_count": 13,
   "id": "22a890da",
   "metadata": {
    "execution": {
     "iopub.execute_input": "2023-12-14T21:06:24.919086Z",
     "iopub.status.busy": "2023-12-14T21:06:24.918386Z",
     "iopub.status.idle": "2023-12-14T21:06:24.926854Z",
     "shell.execute_reply": "2023-12-14T21:06:24.924857Z"
    },
    "papermill": {
     "duration": 0.022392,
     "end_time": "2023-12-14T21:06:24.929121",
     "exception": false,
     "start_time": "2023-12-14T21:06:24.906729",
     "status": "completed"
    },
    "tags": []
   },
   "outputs": [],
   "source": [
    "port_stem = PorterStemmer()"
   ]
  },
  {
   "cell_type": "code",
   "execution_count": 14,
   "id": "a85c5492",
   "metadata": {
    "execution": {
     "iopub.execute_input": "2023-12-14T21:06:24.951421Z",
     "iopub.status.busy": "2023-12-14T21:06:24.951109Z",
     "iopub.status.idle": "2023-12-14T21:06:24.956999Z",
     "shell.execute_reply": "2023-12-14T21:06:24.956104Z"
    },
    "papermill": {
     "duration": 0.019472,
     "end_time": "2023-12-14T21:06:24.959179",
     "exception": false,
     "start_time": "2023-12-14T21:06:24.939707",
     "status": "completed"
    },
    "tags": []
   },
   "outputs": [],
   "source": [
    "def stemming(content):\n",
    "    stemmed_content = re.sub('[^a-zA-Z]',' ',content)\n",
    "    stemmed_content = stemmed_content.lower()\n",
    "    stemmed_content = stemmed_content.split()\n",
    "    stop_words = set(stopwords.words('english'))\n",
    "    stemmed_content = [port_stem.stem(word) for word in stemmed_content if word.lower() not in stop_words or word.lower() == 'not']\n",
    "    stemmed_content = ' '.join(stemmed_content)\n",
    "    return stemmed_content\n"
   ]
  },
  {
   "cell_type": "code",
   "execution_count": 15,
   "id": "d785a3de",
   "metadata": {
    "execution": {
     "iopub.execute_input": "2023-12-14T21:06:24.981819Z",
     "iopub.status.busy": "2023-12-14T21:06:24.981547Z",
     "iopub.status.idle": "2023-12-14T21:06:25.337718Z",
     "shell.execute_reply": "2023-12-14T21:06:25.336909Z"
    },
    "papermill": {
     "duration": 0.36997,
     "end_time": "2023-12-14T21:06:25.340011",
     "exception": false,
     "start_time": "2023-12-14T21:06:24.970041",
     "status": "completed"
    },
    "tags": []
   },
   "outputs": [],
   "source": [
    "# applying our function on review column\n",
    "df['Review'] = df['Review'].apply(stemming)"
   ]
  },
  {
   "cell_type": "code",
   "execution_count": 16,
   "id": "b28a85ba",
   "metadata": {
    "execution": {
     "iopub.execute_input": "2023-12-14T21:06:25.361640Z",
     "iopub.status.busy": "2023-12-14T21:06:25.361352Z",
     "iopub.status.idle": "2023-12-14T21:06:25.369032Z",
     "shell.execute_reply": "2023-12-14T21:06:25.368167Z"
    },
    "papermill": {
     "duration": 0.020612,
     "end_time": "2023-12-14T21:06:25.371178",
     "exception": false,
     "start_time": "2023-12-14T21:06:25.350566",
     "status": "completed"
    },
    "tags": []
   },
   "outputs": [
    {
     "data": {
      "text/plain": [
       "0                                         wow love place\n",
       "1                                         crust not good\n",
       "2                                 not tasti textur nasti\n",
       "3      stop late may bank holiday rick steve recommen...\n",
       "4                                select menu great price\n",
       "                             ...                        \n",
       "995                        think food flavor textur lack\n",
       "996                               appetit instantli gone\n",
       "997                 overal not impress would not go back\n",
       "998    whole experi underwhelm think go ninja sushi n...\n",
       "999    wast enough life pour salt wound draw time too...\n",
       "Name: Review, Length: 1000, dtype: object"
      ]
     },
     "execution_count": 16,
     "metadata": {},
     "output_type": "execute_result"
    }
   ],
   "source": [
    "df['Review'] #Review after stemming"
   ]
  },
  {
   "cell_type": "markdown",
   "id": "1f179472",
   "metadata": {
    "papermill": {
     "duration": 0.010259,
     "end_time": "2023-12-14T21:06:25.391525",
     "exception": false,
     "start_time": "2023-12-14T21:06:25.381266",
     "status": "completed"
    },
    "tags": []
   },
   "source": [
    "# **Creating Model**"
   ]
  },
  {
   "cell_type": "code",
   "execution_count": 17,
   "id": "25384aa5",
   "metadata": {
    "execution": {
     "iopub.execute_input": "2023-12-14T21:06:25.411648Z",
     "iopub.status.busy": "2023-12-14T21:06:25.411371Z",
     "iopub.status.idle": "2023-12-14T21:06:25.417831Z",
     "shell.execute_reply": "2023-12-14T21:06:25.417194Z"
    },
    "papermill": {
     "duration": 0.018589,
     "end_time": "2023-12-14T21:06:25.419770",
     "exception": false,
     "start_time": "2023-12-14T21:06:25.401181",
     "status": "completed"
    },
    "tags": []
   },
   "outputs": [],
   "source": [
    "from sklearn.feature_extraction.text import CountVectorizer\n",
    "from sklearn.model_selection import train_test_split\n",
    "from sklearn.linear_model import LogisticRegression\n",
    "from sklearn.metrics import accuracy_score, classification_report\n",
    "from sklearn.pipeline import make_pipeline\n",
    "from sklearn.feature_extraction.text import TfidfTransformer\n",
    "\n"
   ]
  },
  {
   "cell_type": "code",
   "execution_count": 18,
   "id": "d0661ac2",
   "metadata": {
    "execution": {
     "iopub.execute_input": "2023-12-14T21:06:25.439641Z",
     "iopub.status.busy": "2023-12-14T21:06:25.439371Z",
     "iopub.status.idle": "2023-12-14T21:06:25.443254Z",
     "shell.execute_reply": "2023-12-14T21:06:25.442527Z"
    },
    "papermill": {
     "duration": 0.015934,
     "end_time": "2023-12-14T21:06:25.445264",
     "exception": false,
     "start_time": "2023-12-14T21:06:25.429330",
     "status": "completed"
    },
    "tags": []
   },
   "outputs": [],
   "source": [
    "X = df['Review'] \n",
    "y = df['Liked']"
   ]
  },
  {
   "cell_type": "code",
   "execution_count": 19,
   "id": "2ad670ec",
   "metadata": {
    "execution": {
     "iopub.execute_input": "2023-12-14T21:06:25.465595Z",
     "iopub.status.busy": "2023-12-14T21:06:25.465033Z",
     "iopub.status.idle": "2023-12-14T21:06:25.472483Z",
     "shell.execute_reply": "2023-12-14T21:06:25.471471Z"
    },
    "papermill": {
     "duration": 0.019709,
     "end_time": "2023-12-14T21:06:25.474549",
     "exception": false,
     "start_time": "2023-12-14T21:06:25.454840",
     "status": "completed"
    },
    "tags": []
   },
   "outputs": [],
   "source": [
    "X_train, X_test, y_train, y_test = train_test_split(X, y, test_size=0.3, random_state=42,shuffle=True)"
   ]
  },
  {
   "cell_type": "code",
   "execution_count": 20,
   "id": "78de0352",
   "metadata": {
    "execution": {
     "iopub.execute_input": "2023-12-14T21:06:25.494961Z",
     "iopub.status.busy": "2023-12-14T21:06:25.494712Z",
     "iopub.status.idle": "2023-12-14T21:06:25.498643Z",
     "shell.execute_reply": "2023-12-14T21:06:25.497842Z"
    },
    "papermill": {
     "duration": 0.01591,
     "end_time": "2023-12-14T21:06:25.500704",
     "exception": false,
     "start_time": "2023-12-14T21:06:25.484794",
     "status": "completed"
    },
    "tags": []
   },
   "outputs": [],
   "source": [
    "LR = make_pipeline(\n",
    "    CountVectorizer(),  \n",
    "    TfidfTransformer(),  \n",
    "    LogisticRegression(max_iter=1000))"
   ]
  },
  {
   "cell_type": "code",
   "execution_count": 21,
   "id": "b0d29226",
   "metadata": {
    "execution": {
     "iopub.execute_input": "2023-12-14T21:06:25.565617Z",
     "iopub.status.busy": "2023-12-14T21:06:25.564757Z",
     "iopub.status.idle": "2023-12-14T21:06:25.621466Z",
     "shell.execute_reply": "2023-12-14T21:06:25.620568Z"
    },
    "papermill": {
     "duration": 0.069621,
     "end_time": "2023-12-14T21:06:25.623452",
     "exception": false,
     "start_time": "2023-12-14T21:06:25.553831",
     "status": "completed"
    },
    "tags": []
   },
   "outputs": [
    {
     "data": {
      "text/html": [
       "<style>#sk-container-id-1 {color: black;background-color: white;}#sk-container-id-1 pre{padding: 0;}#sk-container-id-1 div.sk-toggleable {background-color: white;}#sk-container-id-1 label.sk-toggleable__label {cursor: pointer;display: block;width: 100%;margin-bottom: 0;padding: 0.3em;box-sizing: border-box;text-align: center;}#sk-container-id-1 label.sk-toggleable__label-arrow:before {content: \"▸\";float: left;margin-right: 0.25em;color: #696969;}#sk-container-id-1 label.sk-toggleable__label-arrow:hover:before {color: black;}#sk-container-id-1 div.sk-estimator:hover label.sk-toggleable__label-arrow:before {color: black;}#sk-container-id-1 div.sk-toggleable__content {max-height: 0;max-width: 0;overflow: hidden;text-align: left;background-color: #f0f8ff;}#sk-container-id-1 div.sk-toggleable__content pre {margin: 0.2em;color: black;border-radius: 0.25em;background-color: #f0f8ff;}#sk-container-id-1 input.sk-toggleable__control:checked~div.sk-toggleable__content {max-height: 200px;max-width: 100%;overflow: auto;}#sk-container-id-1 input.sk-toggleable__control:checked~label.sk-toggleable__label-arrow:before {content: \"▾\";}#sk-container-id-1 div.sk-estimator input.sk-toggleable__control:checked~label.sk-toggleable__label {background-color: #d4ebff;}#sk-container-id-1 div.sk-label input.sk-toggleable__control:checked~label.sk-toggleable__label {background-color: #d4ebff;}#sk-container-id-1 input.sk-hidden--visually {border: 0;clip: rect(1px 1px 1px 1px);clip: rect(1px, 1px, 1px, 1px);height: 1px;margin: -1px;overflow: hidden;padding: 0;position: absolute;width: 1px;}#sk-container-id-1 div.sk-estimator {font-family: monospace;background-color: #f0f8ff;border: 1px dotted black;border-radius: 0.25em;box-sizing: border-box;margin-bottom: 0.5em;}#sk-container-id-1 div.sk-estimator:hover {background-color: #d4ebff;}#sk-container-id-1 div.sk-parallel-item::after {content: \"\";width: 100%;border-bottom: 1px solid gray;flex-grow: 1;}#sk-container-id-1 div.sk-label:hover label.sk-toggleable__label {background-color: #d4ebff;}#sk-container-id-1 div.sk-serial::before {content: \"\";position: absolute;border-left: 1px solid gray;box-sizing: border-box;top: 0;bottom: 0;left: 50%;z-index: 0;}#sk-container-id-1 div.sk-serial {display: flex;flex-direction: column;align-items: center;background-color: white;padding-right: 0.2em;padding-left: 0.2em;position: relative;}#sk-container-id-1 div.sk-item {position: relative;z-index: 1;}#sk-container-id-1 div.sk-parallel {display: flex;align-items: stretch;justify-content: center;background-color: white;position: relative;}#sk-container-id-1 div.sk-item::before, #sk-container-id-1 div.sk-parallel-item::before {content: \"\";position: absolute;border-left: 1px solid gray;box-sizing: border-box;top: 0;bottom: 0;left: 50%;z-index: -1;}#sk-container-id-1 div.sk-parallel-item {display: flex;flex-direction: column;z-index: 1;position: relative;background-color: white;}#sk-container-id-1 div.sk-parallel-item:first-child::after {align-self: flex-end;width: 50%;}#sk-container-id-1 div.sk-parallel-item:last-child::after {align-self: flex-start;width: 50%;}#sk-container-id-1 div.sk-parallel-item:only-child::after {width: 0;}#sk-container-id-1 div.sk-dashed-wrapped {border: 1px dashed gray;margin: 0 0.4em 0.5em 0.4em;box-sizing: border-box;padding-bottom: 0.4em;background-color: white;}#sk-container-id-1 div.sk-label label {font-family: monospace;font-weight: bold;display: inline-block;line-height: 1.2em;}#sk-container-id-1 div.sk-label-container {text-align: center;}#sk-container-id-1 div.sk-container {/* jupyter's `normalize.less` sets `[hidden] { display: none; }` but bootstrap.min.css set `[hidden] { display: none !important; }` so we also need the `!important` here to be able to override the default hidden behavior on the sphinx rendered scikit-learn.org. See: https://github.com/scikit-learn/scikit-learn/issues/21755 */display: inline-block !important;position: relative;}#sk-container-id-1 div.sk-text-repr-fallback {display: none;}</style><div id=\"sk-container-id-1\" class=\"sk-top-container\"><div class=\"sk-text-repr-fallback\"><pre>Pipeline(steps=[(&#x27;countvectorizer&#x27;, CountVectorizer()),\n",
       "                (&#x27;tfidftransformer&#x27;, TfidfTransformer()),\n",
       "                (&#x27;logisticregression&#x27;, LogisticRegression(max_iter=1000))])</pre><b>In a Jupyter environment, please rerun this cell to show the HTML representation or trust the notebook. <br />On GitHub, the HTML representation is unable to render, please try loading this page with nbviewer.org.</b></div><div class=\"sk-container\" hidden><div class=\"sk-item sk-dashed-wrapped\"><div class=\"sk-label-container\"><div class=\"sk-label sk-toggleable\"><input class=\"sk-toggleable__control sk-hidden--visually\" id=\"sk-estimator-id-1\" type=\"checkbox\" ><label for=\"sk-estimator-id-1\" class=\"sk-toggleable__label sk-toggleable__label-arrow\">Pipeline</label><div class=\"sk-toggleable__content\"><pre>Pipeline(steps=[(&#x27;countvectorizer&#x27;, CountVectorizer()),\n",
       "                (&#x27;tfidftransformer&#x27;, TfidfTransformer()),\n",
       "                (&#x27;logisticregression&#x27;, LogisticRegression(max_iter=1000))])</pre></div></div></div><div class=\"sk-serial\"><div class=\"sk-item\"><div class=\"sk-estimator sk-toggleable\"><input class=\"sk-toggleable__control sk-hidden--visually\" id=\"sk-estimator-id-2\" type=\"checkbox\" ><label for=\"sk-estimator-id-2\" class=\"sk-toggleable__label sk-toggleable__label-arrow\">CountVectorizer</label><div class=\"sk-toggleable__content\"><pre>CountVectorizer()</pre></div></div></div><div class=\"sk-item\"><div class=\"sk-estimator sk-toggleable\"><input class=\"sk-toggleable__control sk-hidden--visually\" id=\"sk-estimator-id-3\" type=\"checkbox\" ><label for=\"sk-estimator-id-3\" class=\"sk-toggleable__label sk-toggleable__label-arrow\">TfidfTransformer</label><div class=\"sk-toggleable__content\"><pre>TfidfTransformer()</pre></div></div></div><div class=\"sk-item\"><div class=\"sk-estimator sk-toggleable\"><input class=\"sk-toggleable__control sk-hidden--visually\" id=\"sk-estimator-id-4\" type=\"checkbox\" ><label for=\"sk-estimator-id-4\" class=\"sk-toggleable__label sk-toggleable__label-arrow\">LogisticRegression</label><div class=\"sk-toggleable__content\"><pre>LogisticRegression(max_iter=1000)</pre></div></div></div></div></div></div></div>"
      ],
      "text/plain": [
       "Pipeline(steps=[('countvectorizer', CountVectorizer()),\n",
       "                ('tfidftransformer', TfidfTransformer()),\n",
       "                ('logisticregression', LogisticRegression(max_iter=1000))])"
      ]
     },
     "execution_count": 21,
     "metadata": {},
     "output_type": "execute_result"
    }
   ],
   "source": [
    "LR.fit(X_train, y_train)\n"
   ]
  },
  {
   "cell_type": "code",
   "execution_count": 22,
   "id": "02f3fd15",
   "metadata": {
    "execution": {
     "iopub.execute_input": "2023-12-14T21:06:25.643969Z",
     "iopub.status.busy": "2023-12-14T21:06:25.643710Z",
     "iopub.status.idle": "2023-12-14T21:06:25.661300Z",
     "shell.execute_reply": "2023-12-14T21:06:25.660363Z"
    },
    "papermill": {
     "duration": 0.029836,
     "end_time": "2023-12-14T21:06:25.663074",
     "exception": false,
     "start_time": "2023-12-14T21:06:25.633238",
     "status": "completed"
    },
    "tags": []
   },
   "outputs": [
    {
     "name": "stdout",
     "output_type": "stream",
     "text": [
      "Accuracy: 0.7866666666666666\n",
      "Classification Report:\n",
      "              precision    recall  f1-score   support\n",
      "\n",
      "           0       0.77      0.82      0.80       152\n",
      "           1       0.80      0.75      0.78       148\n",
      "\n",
      "    accuracy                           0.79       300\n",
      "   macro avg       0.79      0.79      0.79       300\n",
      "weighted avg       0.79      0.79      0.79       300\n",
      "\n"
     ]
    }
   ],
   "source": [
    "y_pred = LR.predict(X_test)\n",
    "accuracy = accuracy_score(y_test, y_pred)\n",
    "report = classification_report(y_test, y_pred)\n",
    "\n",
    "print(f'Accuracy: {accuracy}')\n",
    "print(f'Classification Report:\\n{report}')"
   ]
  },
  {
   "cell_type": "code",
   "execution_count": null,
   "id": "90a7a72c",
   "metadata": {
    "papermill": {
     "duration": 0.009389,
     "end_time": "2023-12-14T21:06:25.682089",
     "exception": false,
     "start_time": "2023-12-14T21:06:25.672700",
     "status": "completed"
    },
    "tags": []
   },
   "outputs": [],
   "source": []
  }
 ],
 "metadata": {
  "kaggle": {
   "accelerator": "nvidiaTeslaT4",
   "dataSources": [
    {
     "datasetId": 1395030,
     "sourceId": 2312004,
     "sourceType": "datasetVersion"
    }
   ],
   "dockerImageVersionId": 30626,
   "isGpuEnabled": true,
   "isInternetEnabled": true,
   "language": "python",
   "sourceType": "notebook"
  },
  "kernelspec": {
   "display_name": "Python 3",
   "language": "python",
   "name": "python3"
  },
  "language_info": {
   "codemirror_mode": {
    "name": "ipython",
    "version": 3
   },
   "file_extension": ".py",
   "mimetype": "text/x-python",
   "name": "python",
   "nbconvert_exporter": "python",
   "pygments_lexer": "ipython3",
   "version": "3.10.12"
  },
  "papermill": {
   "default_parameters": {},
   "duration": 8.298635,
   "end_time": "2023-12-14T21:06:26.110362",
   "environment_variables": {},
   "exception": null,
   "input_path": "__notebook__.ipynb",
   "output_path": "__notebook__.ipynb",
   "parameters": {},
   "start_time": "2023-12-14T21:06:17.811727",
   "version": "2.4.0"
  }
 },
 "nbformat": 4,
 "nbformat_minor": 5
}
